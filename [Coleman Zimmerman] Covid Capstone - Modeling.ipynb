{
 "cells": [
  {
   "cell_type": "code",
   "execution_count": 1,
   "id": "f4873fd0",
   "metadata": {},
   "outputs": [],
   "source": [
    "import numpy as np\n",
    "import pandas as pd\n",
    "import matplotlib.pyplot as plt\n",
    "import seaborn as sns\n",
    "import shap\n",
    "from IPython import display\n",
    "from sklearn.model_selection import train_test_split, cross_val_score, GridSearchCV, RandomizedSearchCV, RepeatedKFold\n",
    "from sklearn.metrics import r2_score, mean_squared_error, confusion_matrix, accuracy_score\n",
    "from sklearn.dummy import DummyRegressor\n",
    "from catboost import Pool, CatBoostRegressor, cv\n",
    "from sklearn.linear_model import BayesianRidge, LinearRegression, Lasso, LassoCV, Lars, LassoLars\n",
    "from sklearn.ensemble import (RandomForestRegressor, ExtraTreesRegressor, VotingRegressor, VotingClassifier)\n",
    "from sklearn.pipeline import Pipeline\n",
    "from sklearn.preprocessing import StandardScaler\n",
    "from hyperopt import fmin, tpe, hp, Trials\n",
    "from sklearn.inspection import permutation_importance"
   ]
  },
  {
   "cell_type": "code",
   "execution_count": 2,
   "id": "bb4e3731",
   "metadata": {},
   "outputs": [],
   "source": [
    "#reading in data\n",
    "df = pd.read_csv(r'Users\\colem\\OneDrive\\Documents\\Springboard\\COVID-19-master\\covid_data_postprocessing_weekly.csv')"
   ]
  },
  {
   "cell_type": "code",
   "execution_count": 3,
   "id": "6ad3f87a",
   "metadata": {},
   "outputs": [
    {
     "data": {
      "text/html": [
       "<div>\n",
       "<style scoped>\n",
       "    .dataframe tbody tr th:only-of-type {\n",
       "        vertical-align: middle;\n",
       "    }\n",
       "\n",
       "    .dataframe tbody tr th {\n",
       "        vertical-align: top;\n",
       "    }\n",
       "\n",
       "    .dataframe thead th {\n",
       "        text-align: right;\n",
       "    }\n",
       "</style>\n",
       "<table border=\"1\" class=\"dataframe\">\n",
       "  <thead>\n",
       "    <tr style=\"text-align: right;\">\n",
       "      <th></th>\n",
       "      <th>T_avg</th>\n",
       "      <th>Prcp</th>\n",
       "      <th>New_Confirmed</th>\n",
       "      <th>New_Deaths</th>\n",
       "      <th>New_Deaths_Lag_1_week</th>\n",
       "      <th>New_Deaths_Lag_2_week</th>\n",
       "      <th>New_Deaths_Lag_3_week</th>\n",
       "      <th>New_Confirmed_Lag_1_week</th>\n",
       "      <th>New_Confirmed_Lag_2_week</th>\n",
       "      <th>New_Confirmed_Lag_3_week</th>\n",
       "      <th>New_Cases_as_percent_of_pop</th>\n",
       "    </tr>\n",
       "  </thead>\n",
       "  <tbody>\n",
       "    <tr>\n",
       "      <th>0</th>\n",
       "      <td>58.717143</td>\n",
       "      <td>0.063555</td>\n",
       "      <td>412.857143</td>\n",
       "      <td>17.142857</td>\n",
       "      <td>125.0</td>\n",
       "      <td>102.0</td>\n",
       "      <td>151.0</td>\n",
       "      <td>3652.0</td>\n",
       "      <td>4734.0</td>\n",
       "      <td>4930.0</td>\n",
       "      <td>39.319728</td>\n",
       "    </tr>\n",
       "    <tr>\n",
       "      <th>1</th>\n",
       "      <td>64.348571</td>\n",
       "      <td>0.002812</td>\n",
       "      <td>521.714286</td>\n",
       "      <td>17.857143</td>\n",
       "      <td>102.0</td>\n",
       "      <td>151.0</td>\n",
       "      <td>99.0</td>\n",
       "      <td>4734.0</td>\n",
       "      <td>4930.0</td>\n",
       "      <td>6924.0</td>\n",
       "      <td>49.687075</td>\n",
       "    </tr>\n",
       "    <tr>\n",
       "      <th>2</th>\n",
       "      <td>67.460000</td>\n",
       "      <td>0.574803</td>\n",
       "      <td>676.285714</td>\n",
       "      <td>14.571429</td>\n",
       "      <td>151.0</td>\n",
       "      <td>99.0</td>\n",
       "      <td>99.0</td>\n",
       "      <td>4930.0</td>\n",
       "      <td>6924.0</td>\n",
       "      <td>8127.0</td>\n",
       "      <td>64.408163</td>\n",
       "    </tr>\n",
       "    <tr>\n",
       "      <th>3</th>\n",
       "      <td>72.885714</td>\n",
       "      <td>0.302025</td>\n",
       "      <td>704.285714</td>\n",
       "      <td>21.571429</td>\n",
       "      <td>99.0</td>\n",
       "      <td>99.0</td>\n",
       "      <td>88.0</td>\n",
       "      <td>6924.0</td>\n",
       "      <td>8127.0</td>\n",
       "      <td>8545.0</td>\n",
       "      <td>67.074830</td>\n",
       "    </tr>\n",
       "    <tr>\n",
       "      <th>4</th>\n",
       "      <td>76.562857</td>\n",
       "      <td>0.045557</td>\n",
       "      <td>989.142857</td>\n",
       "      <td>14.142857</td>\n",
       "      <td>99.0</td>\n",
       "      <td>88.0</td>\n",
       "      <td>138.0</td>\n",
       "      <td>8127.0</td>\n",
       "      <td>8545.0</td>\n",
       "      <td>9422.0</td>\n",
       "      <td>94.204082</td>\n",
       "    </tr>\n",
       "  </tbody>\n",
       "</table>\n",
       "</div>"
      ],
      "text/plain": [
       "       T_avg      Prcp  New_Confirmed  New_Deaths  New_Deaths_Lag_1_week  \\\n",
       "0  58.717143  0.063555     412.857143   17.142857                  125.0   \n",
       "1  64.348571  0.002812     521.714286   17.857143                  102.0   \n",
       "2  67.460000  0.574803     676.285714   14.571429                  151.0   \n",
       "3  72.885714  0.302025     704.285714   21.571429                   99.0   \n",
       "4  76.562857  0.045557     989.142857   14.142857                   99.0   \n",
       "\n",
       "   New_Deaths_Lag_2_week  New_Deaths_Lag_3_week  New_Confirmed_Lag_1_week  \\\n",
       "0                  102.0                  151.0                    3652.0   \n",
       "1                  151.0                   99.0                    4734.0   \n",
       "2                   99.0                   99.0                    4930.0   \n",
       "3                   99.0                   88.0                    6924.0   \n",
       "4                   88.0                  138.0                    8127.0   \n",
       "\n",
       "   New_Confirmed_Lag_2_week  New_Confirmed_Lag_3_week  \\\n",
       "0                    4734.0                    4930.0   \n",
       "1                    4930.0                    6924.0   \n",
       "2                    6924.0                    8127.0   \n",
       "3                    8127.0                    8545.0   \n",
       "4                    8545.0                    9422.0   \n",
       "\n",
       "   New_Cases_as_percent_of_pop  \n",
       "0                    39.319728  \n",
       "1                    49.687075  \n",
       "2                    64.408163  \n",
       "3                    67.074830  \n",
       "4                    94.204082  "
      ]
     },
     "execution_count": 3,
     "metadata": {},
     "output_type": "execute_result"
    }
   ],
   "source": [
    "#double check on df\n",
    "df.head()"
   ]
  },
  {
   "cell_type": "markdown",
   "id": "9cd8ccc3",
   "metadata": {},
   "source": [
    "Train Test Split"
   ]
  },
  {
   "cell_type": "code",
   "execution_count": 4,
   "id": "2f48cdf7",
   "metadata": {},
   "outputs": [],
   "source": [
    "#before training any models on the data, we are seperating training and testing data\n",
    "#creating features\n",
    "X = df.drop(['New_Cases_as_percent_of_pop','New_Confirmed'], axis=1)\n",
    "y = df['New_Cases_as_percent_of_pop']"
   ]
  },
  {
   "cell_type": "code",
   "execution_count": 5,
   "id": "17928e36",
   "metadata": {},
   "outputs": [],
   "source": [
    "#making test and training split\n",
    "X_train, X_test, y_train, y_test = train_test_split(X,y, test_size = .25, random_state = 123)"
   ]
  },
  {
   "cell_type": "markdown",
   "id": "d2853bc0",
   "metadata": {},
   "source": [
    "Linear Regression Model"
   ]
  },
  {
   "cell_type": "code",
   "execution_count": 6,
   "id": "23553fb5",
   "metadata": {},
   "outputs": [
    {
     "data": {
      "text/plain": [
       "LinearRegression()"
      ]
     },
     "execution_count": 6,
     "metadata": {},
     "output_type": "execute_result"
    }
   ],
   "source": [
    "#building and fitting linear regression model\n",
    "lin_reg = LinearRegression(fit_intercept = True)\n",
    "lin_reg.fit(X_train, y_train)"
   ]
  },
  {
   "cell_type": "code",
   "execution_count": 7,
   "id": "5d9878da",
   "metadata": {},
   "outputs": [
    {
     "name": "stdout",
     "output_type": "stream",
     "text": [
      "Model score (R-squared): 0.95\n"
     ]
    }
   ],
   "source": [
    "#testing linear regression model for r-squared score on training data\n",
    "score = lin_reg.score(X_train,y_train)\n",
    "print(\"Model score (R-squared): %.2f\" % score)"
   ]
  },
  {
   "cell_type": "code",
   "execution_count": 8,
   "id": "64d6d8f5",
   "metadata": {
    "scrolled": true
   },
   "outputs": [
    {
     "name": "stdout",
     "output_type": "stream",
     "text": [
      "MSE: 20605.23\n"
     ]
    }
   ],
   "source": [
    "#testing linear regression model for mean squared error\n",
    "ypred = lin_reg.predict(X_test)\n",
    "mse = mean_squared_error(y_test, ypred)\n",
    "print(\"MSE: %.2f\" % mse)"
   ]
  },
  {
   "cell_type": "code",
   "execution_count": 9,
   "id": "deaa045c",
   "metadata": {},
   "outputs": [
    {
     "name": "stdout",
     "output_type": "stream",
     "text": [
      "Coefficient of determination: 0.85\n"
     ]
    }
   ],
   "source": [
    "#testing linear regression model for the coefficient of determination\n",
    "cod = r2_score(y_test, ypred)\n",
    "print(\"Coefficient of determination: %.2f\" % cod)"
   ]
  },
  {
   "cell_type": "code",
   "execution_count": 10,
   "id": "79ecf7e7",
   "metadata": {},
   "outputs": [
    {
     "name": "stdout",
     "output_type": "stream",
     "text": [
      "RMSE: 143.55\n"
     ]
    }
   ],
   "source": [
    "#testing linear regression model for root-mean-square deviation\n",
    "print(\"RMSE: %.2f\" % np.sqrt(mse))"
   ]
  },
  {
   "cell_type": "code",
   "execution_count": 11,
   "id": "1058d56b",
   "metadata": {},
   "outputs": [
    {
     "data": {
      "image/png": "[encoded data removed]",
      "text/plain": [
       "<Figure size 640x480 with 1 Axes>"
      ]
     },
     "metadata": {},
     "output_type": "display_data"
    }
   ],
   "source": [
    "#plotting linear regression model\n",
    "x_ax = range(len(y_test))\n",
    "plt.scatter(x_ax, y_test, s=5, color=\"blue\", label=\"original\")\n",
    "plt.plot(x_ax, ypred, lw=0.8, color=\"red\", label=\"predicted\")\n",
    "plt.legend()\n",
    "plt.show() "
   ]
  },
  {
   "cell_type": "markdown",
   "id": "36d3121b",
   "metadata": {},
   "source": [
    "very odd that linear regression model is showing as anything but a straight line"
   ]
  },
  {
   "cell_type": "code",
   "execution_count": 12,
   "id": "c5baf5c1",
   "metadata": {},
   "outputs": [],
   "source": [
    "#using grid search to tune hyperparameters\n",
    "def grid_search(model, grid):\n",
    "    model_cv = GridSearchCV(estimator = model, param_grid = grid, cv = 5)\n",
    "    model_cv.fit(X_train, y_train)\n",
    "    return (model_cv.best_params_)"
   ]
  },
  {
   "cell_type": "code",
   "execution_count": 13,
   "id": "16821665",
   "metadata": {},
   "outputs": [
    {
     "name": "stdout",
     "output_type": "stream",
     "text": [
      "{'copy_X': True, 'fit_intercept': False, 'normalize': True}\n"
     ]
    }
   ],
   "source": [
    "#determining best parameters for linear regression model\n",
    "param_grid_lr = {'fit_intercept':[True,False], 'normalize':[True,False], 'copy_X':[True, False]}\n",
    "\n",
    "print(grid_search(model = LinearRegression(), grid = param_grid_lr))"
   ]
  },
  {
   "cell_type": "code",
   "execution_count": 14,
   "id": "0b35745b",
   "metadata": {},
   "outputs": [
    {
     "data": {
      "text/plain": [
       "LinearRegression(fit_intercept=False, normalize=True)"
      ]
     },
     "execution_count": 14,
     "metadata": {},
     "output_type": "execute_result"
    }
   ],
   "source": [
    "lin_reg_tuned = LinearRegression(fit_intercept = False, copy_X = True, normalize = True)\n",
    "lin_reg_tuned.fit(X_train, y_train)"
   ]
  },
  {
   "cell_type": "code",
   "execution_count": 15,
   "id": "ed441cea",
   "metadata": {},
   "outputs": [
    {
     "name": "stdout",
     "output_type": "stream",
     "text": [
      "Model score (R-squared): 0.95\n"
     ]
    }
   ],
   "source": [
    "#testing tuned linear regression model for r-squared score on training data\n",
    "score = lin_reg_tuned.score(X_train,y_train)\n",
    "print(\"Model score (R-squared): %.2f\" % score)"
   ]
  },
  {
   "cell_type": "code",
   "execution_count": 16,
   "id": "7d0b55e3",
   "metadata": {},
   "outputs": [
    {
     "name": "stdout",
     "output_type": "stream",
     "text": [
      "MSE: 20734.81\n"
     ]
    }
   ],
   "source": [
    "#testing tuned linear regression model for mean squared error\n",
    "ypred = lin_reg_tuned.predict(X_test)\n",
    "mse = mean_squared_error(y_test, ypred)\n",
    "print(\"MSE: %.2f\" % mse)"
   ]
  },
  {
   "cell_type": "code",
   "execution_count": 17,
   "id": "0103e212",
   "metadata": {},
   "outputs": [
    {
     "name": "stdout",
     "output_type": "stream",
     "text": [
      "Coefficient of determination: 0.85\n"
     ]
    }
   ],
   "source": [
    "#testing tuned linear regression model for the coefficient of determination\n",
    "cod = r2_score(y_test, ypred)\n",
    "print(\"Coefficient of determination: %.2f\" % cod)"
   ]
  },
  {
   "cell_type": "code",
   "execution_count": 18,
   "id": "41cf4264",
   "metadata": {},
   "outputs": [
    {
     "name": "stdout",
     "output_type": "stream",
     "text": [
      "RMSE: 144.00\n"
     ]
    }
   ],
   "source": [
    "#testing tuned linear regression model for root-mean-square deviation\n",
    "print(\"RMSE: %.2f\" % np.sqrt(mse))"
   ]
  },
  {
   "cell_type": "code",
   "execution_count": 19,
   "id": "c0ac9072",
   "metadata": {},
   "outputs": [
    {
     "data": {
      "image/png": "[encoded data removed]",
      "text/plain": [
       "<Figure size 640x480 with 1 Axes>"
      ]
     },
     "metadata": {},
     "output_type": "display_data"
    }
   ],
   "source": [
    "#plotting tuned linear regression model\n",
    "x_ax = range(len(y_test))\n",
    "plt.scatter(x_ax, y_test, s=5, color=\"blue\", label=\"original\")\n",
    "plt.plot(x_ax, ypred, lw=0.8, color=\"red\", label=\"predicted\")\n",
    "plt.legend()\n",
    "plt.show() "
   ]
  },
  {
   "cell_type": "markdown",
   "id": "c351059b",
   "metadata": {},
   "source": [
    "new tuned model is better (lower MSE, higher coefficient of determination)"
   ]
  },
  {
   "cell_type": "markdown",
   "id": "11bdf68d",
   "metadata": {},
   "source": [
    "Lasso Regression Model"
   ]
  },
  {
   "cell_type": "code",
   "execution_count": 20,
   "id": "5e7a0280",
   "metadata": {},
   "outputs": [
    {
     "data": {
      "text/plain": [
       "Lasso()"
      ]
     },
     "execution_count": 20,
     "metadata": {},
     "output_type": "execute_result"
    }
   ],
   "source": [
    "#building lasso regression model with standard hyperparameters to start\n",
    "las = Lasso()\n",
    "Lasso(alpha=1.0, copy_X=True, fit_intercept=True, max_iter=1000,\n",
    "   normalize=False, positive=False, precompute=False, random_state=None,\n",
    "   selection='cyclic', tol=0.0001, warm_start=False) \n",
    "las.fit(X_train, y_train)"
   ]
  },
  {
   "cell_type": "code",
   "execution_count": 21,
   "id": "41c5cf0c",
   "metadata": {},
   "outputs": [
    {
     "name": "stdout",
     "output_type": "stream",
     "text": [
      "Model score (R-squared): 0.95\n"
     ]
    }
   ],
   "source": [
    "#testing lasso regression model for R-squared score on training data\n",
    "score = las.score(X_train, y_train)\n",
    "print(\"Model score (R-squared): %.2f\" % score)"
   ]
  },
  {
   "cell_type": "code",
   "execution_count": 22,
   "id": "286c9e97",
   "metadata": {},
   "outputs": [
    {
     "name": "stdout",
     "output_type": "stream",
     "text": [
      "MSE: 20867.35\n"
     ]
    }
   ],
   "source": [
    "#testing lasso regression model for mean squared error\n",
    "ypred = las.predict(X_test)\n",
    "mse = mean_squared_error(y_test, ypred)\n",
    "print(\"MSE: %.2f\" % mse)"
   ]
  },
  {
   "cell_type": "code",
   "execution_count": 23,
   "id": "df45490c",
   "metadata": {},
   "outputs": [
    {
     "name": "stdout",
     "output_type": "stream",
     "text": [
      "Coefficient of determination: 0.84\n"
     ]
    }
   ],
   "source": [
    "#testing lasso regression model for the coefficient of determination\n",
    "cod = r2_score(y_test, ypred)\n",
    "print(\"Coefficient of determination: %.2f\" % cod)"
   ]
  },
  {
   "cell_type": "code",
   "execution_count": 24,
   "id": "69a8621a",
   "metadata": {},
   "outputs": [
    {
     "name": "stdout",
     "output_type": "stream",
     "text": [
      "RMSE: 144.46\n"
     ]
    }
   ],
   "source": [
    "#testing lasso regression model for root-mean-squared error\n",
    "print(\"RMSE: %.2f\" % np.sqrt(mse))"
   ]
  },
  {
   "cell_type": "code",
   "execution_count": 25,
   "id": "a48f5214",
   "metadata": {},
   "outputs": [
    {
     "data": {
      "image/png": "[encoded data removed]",
      "text/plain": [
       "<Figure size 640x480 with 1 Axes>"
      ]
     },
     "metadata": {},
     "output_type": "display_data"
    }
   ],
   "source": [
    "#plotting lasso regression model\n",
    "x_ax = range(len(X_test))\n",
    "plt.scatter(x_ax, y_test, s=5, color=\"blue\", label=\"original\")\n",
    "plt.plot(x_ax, ypred,lw=0.8, color=\"red\", label=\"predicted\")\n",
    "plt.legend()\n",
    "plt.show()"
   ]
  },
  {
   "cell_type": "code",
   "execution_count": 26,
   "id": "123e31da",
   "metadata": {},
   "outputs": [
    {
     "name": "stdout",
     "output_type": "stream",
     "text": [
      "{'copy_X': True, 'fit_intercept': True, 'normalize': True, 'positive': False}\n"
     ]
    },
    {
     "name": "stderr",
     "output_type": "stream",
     "text": [
      "Objective did not converge. You might want to increase the number of iterations. Duality gap: 4561.9574728334555, tolerance: 1713.5422790010364\n",
      "Objective did not converge. You might want to increase the number of iterations. Duality gap: 426639.73877071665, tolerance: 2493.3262926189454\n",
      "Objective did not converge. You might want to increase the number of iterations. Duality gap: 426639.73877071665, tolerance: 2493.3262926189454\n",
      "Objective did not converge. You might want to increase the number of iterations. Duality gap: 4561.9574728334555, tolerance: 1713.5422790010364\n",
      "Objective did not converge. You might want to increase the number of iterations. Duality gap: 426639.73877071665, tolerance: 2493.3262926189454\n",
      "Objective did not converge. You might want to increase the number of iterations. Duality gap: 426639.73877071665, tolerance: 2493.3262926189454\n"
     ]
    }
   ],
   "source": [
    "#determining best parameters for lasso regression\n",
    "param_grid_lr = {'fit_intercept':[True,False], 'normalize':[True,False], 'copy_X':[True, False], 'positive':[True, False]}\n",
    "\n",
    "print(grid_search(model = Lasso(), grid = param_grid_lr))"
   ]
  },
  {
   "cell_type": "code",
   "execution_count": 27,
   "id": "4bc52832",
   "metadata": {},
   "outputs": [
    {
     "data": {
      "text/plain": [
       "Lasso()"
      ]
     },
     "execution_count": 27,
     "metadata": {},
     "output_type": "execute_result"
    }
   ],
   "source": [
    "#building lasso regression model with standard hyperparameters to start\n",
    "las_tuned = Lasso()\n",
    "Lasso(alpha=1.0, copy_X=True, fit_intercept=True, max_iter=1000,\n",
    "   normalize=True, positive=False, precompute=False, random_state=None,\n",
    "   selection='cyclic', tol=0.0001, warm_start=False) \n",
    "las_tuned.fit(X_train, y_train)"
   ]
  },
  {
   "cell_type": "code",
   "execution_count": 28,
   "id": "8135a13f",
   "metadata": {},
   "outputs": [
    {
     "name": "stdout",
     "output_type": "stream",
     "text": [
      "Model score (R-squared): 0.95\n"
     ]
    }
   ],
   "source": [
    "#testing tuned lasso regression model for R-squared score on training data\n",
    "score = las_tuned.score(X_train, y_train)\n",
    "print(\"Model score (R-squared): %.2f\" % score)"
   ]
  },
  {
   "cell_type": "code",
   "execution_count": 29,
   "id": "649e9272",
   "metadata": {},
   "outputs": [
    {
     "name": "stdout",
     "output_type": "stream",
     "text": [
      "MSE: 20867.35\n"
     ]
    }
   ],
   "source": [
    "#testing tuned lasso regression model for mean squared error\n",
    "ypred = las_tuned.predict(X_test)\n",
    "mse = mean_squared_error(y_test, ypred)\n",
    "print(\"MSE: %.2f\" % mse)"
   ]
  },
  {
   "cell_type": "code",
   "execution_count": 30,
   "id": "208090b2",
   "metadata": {},
   "outputs": [
    {
     "name": "stdout",
     "output_type": "stream",
     "text": [
      "Coefficient of determination: 0.84\n"
     ]
    }
   ],
   "source": [
    "#testing tuned lasso regression model for the coefficient of determination\n",
    "cod = r2_score(y_test, ypred)\n",
    "print(\"Coefficient of determination: %.2f\" % cod)"
   ]
  },
  {
   "cell_type": "code",
   "execution_count": 31,
   "id": "6537f1b7",
   "metadata": {},
   "outputs": [
    {
     "name": "stdout",
     "output_type": "stream",
     "text": [
      "RMSE: 144.46\n"
     ]
    }
   ],
   "source": [
    "#testing tuned lasso regression model for root-mean-squared error\n",
    "print(\"RMSE: %.2f\" % np.sqrt(mse))"
   ]
  },
  {
   "cell_type": "code",
   "execution_count": 32,
   "id": "354a6c37",
   "metadata": {},
   "outputs": [
    {
     "data": {
      "image/png": "[encoded data removed]",
      "text/plain": [
       "<Figure size 640x480 with 1 Axes>"
      ]
     },
     "metadata": {},
     "output_type": "display_data"
    }
   ],
   "source": [
    "#plotting tuned lasso regression model\n",
    "x_ax = range(len(X_test))\n",
    "plt.scatter(x_ax, y_test, s=5, color=\"blue\", label=\"original\")\n",
    "plt.plot(x_ax, ypred,lw=0.8, color=\"red\", label=\"predicted\")\n",
    "plt.legend()\n",
    "plt.show()"
   ]
  },
  {
   "cell_type": "markdown",
   "id": "d46c58ac",
   "metadata": {},
   "source": [
    "no difference after tuning"
   ]
  },
  {
   "cell_type": "code",
   "execution_count": 33,
   "id": "8d4ae064",
   "metadata": {},
   "outputs": [],
   "source": [
    "#creating pipeline to tune hyperparameter alpha for lasso regression model\n",
    "pipeline = Pipeline([\n",
    "                     ('scaler',StandardScaler()),\n",
    "                     ('model',Lasso())\n",
    "])"
   ]
  },
  {
   "cell_type": "code",
   "execution_count": 34,
   "id": "6ddce65c",
   "metadata": {},
   "outputs": [],
   "source": [
    "#using 5 folds, testing for best alpha for lasso regression model\n",
    "search = GridSearchCV(pipeline,\n",
    "                      {'model__alpha':np.arange(0.1,10,0.1)},\n",
    "                      cv = 5, scoring=\"neg_mean_squared_error\",verbose=3\n",
    "                      )"
   ]
  },
  {
   "cell_type": "code",
   "execution_count": 35,
   "id": "7f081f8f",
   "metadata": {},
   "outputs": [
    {
     "name": "stdout",
     "output_type": "stream",
     "text": [
      "Fitting 5 folds for each of 99 candidates, totalling 495 fits\n",
      "[CV] model__alpha=0.1 ................................................\n",
      "[CV] .............. model__alpha=0.1, score=-243015.250, total=   0.0s\n",
      "[CV] model__alpha=0.1 ................................................\n",
      "[CV] ............... model__alpha=0.1, score=-11840.203, total=   0.0s\n",
      "[CV] model__alpha=0.1 ................................................\n",
      "[CV] ............... model__alpha=0.1, score=-36726.379, total=   0.0s\n",
      "[CV] model__alpha=0.1 ................................................\n",
      "[CV] ............... model__alpha=0.1, score=-27469.422, total=   0.0s\n",
      "[CV] model__alpha=0.1 ................................................\n",
      "[CV] ............... model__alpha=0.1, score=-14666.859, total=   0.0s\n",
      "[CV] model__alpha=0.2 ................................................\n",
      "[CV] .............. model__alpha=0.2, score=-237797.690, total=   0.0s\n",
      "[CV] model__alpha=0.2 ................................................\n",
      "[CV] ............... model__alpha=0.2, score=-11810.379, total=   0.0s\n",
      "[CV] model__alpha=0.2 ................................................\n",
      "[CV] ............... model__alpha=0.2, score=-36152.336, total=   0.0s\n",
      "[CV] model__alpha=0.2 ................................................\n",
      "[CV] ............... model__alpha=0.2, score=-27614.230, total=   0.0s\n",
      "[CV] model__alpha=0.2 ................................................\n",
      "[CV] ............... model__alpha=0.2, score=-12708.749, total=   0.0s\n",
      "[CV] model__alpha=0.30000000000000004 ................................\n",
      "[CV]  model__alpha=0.30000000000000004, score=-232690.488, total=   0.0s\n",
      "[CV] model__alpha=0.30000000000000004 ................................\n",
      "[CV]  model__alpha=0.30000000000000004, score=-11763.271, total=   0.0s\n",
      "[CV] model__alpha=0.30000000000000004 ................................\n",
      "[CV]  model__alpha=0.30000000000000004, score=-35589.855, total=   0.0s\n",
      "[CV] model__alpha=0.30000000000000004 ................................\n",
      "[CV]  model__alpha=0.30000000000000004, score=-27753.334, total=   0.0s\n",
      "[CV] model__alpha=0.30000000000000004 ................................\n",
      "[CV]  model__alpha=0.30000000000000004, score=-10936.282, total=   0.0s\n",
      "[CV] model__alpha=0.4 ................................................\n",
      "[CV] .............. model__alpha=0.4, score=-227659.367, total=   0.0s\n",
      "[CV] model__alpha=0.4 ................................................\n",
      "[CV] ............... model__alpha=0.4, score=-11698.074, total=   0.0s\n",
      "[CV] model__alpha=0.4 ................................................\n",
      "[CV] ............... model__alpha=0.4, score=-35038.070, total=   0.0s\n",
      "[CV] model__alpha=0.4 ................................................\n",
      "[CV] ............... model__alpha=0.4, score=-27916.614, total=   0.0s\n",
      "[CV] model__alpha=0.4 ................................................\n",
      "[CV] ................ model__alpha=0.4, score=-9345.172, total=   0.0s\n",
      "[CV] model__alpha=0.5 ................................................\n",
      "[CV] .............. model__alpha=0.5, score=-222720.444, total=   0.0s\n",
      "[CV] model__alpha=0.5 ................................................\n",
      "[CV] ............... model__alpha=0.5, score=-11642.042, total=   0.0s\n",
      "[CV] model__alpha=0.5 ................................................\n",
      "[CV] ............... model__alpha=0.5, score=-34498.532, total=   0.0s\n",
      "[CV] model__alpha=0.5 ................................................\n",
      "[CV] ............... model__alpha=0.5, score=-28082.307, total=   0.0s\n",
      "[CV] model__alpha=0.5 ................................................\n",
      "[CV] ................ model__alpha=0.5, score=-7935.001, total=   0.0s\n",
      "[CV] model__alpha=0.6 ................................................\n",
      "[CV] .............. model__alpha=0.6, score=-217862.545, total=   0.0s\n",
      "[CV] model__alpha=0.6 ................................................\n",
      "[CV] ............... model__alpha=0.6, score=-11613.997, total=   0.0s\n",
      "[CV] model__alpha=0.6 ................................................\n",
      "[CV] ............... model__alpha=0.6, score=-33970.066, total=   0.0s\n",
      "[CV] model__alpha=0.6 ................................................\n",
      "[CV] ............... model__alpha=0.6, score=-28245.014, total=   0.0s\n",
      "[CV] model__alpha=0.6 ................................................\n",
      "[CV] ................ model__alpha=0.6, score=-6701.557, total=   0.0s\n",
      "[CV] model__alpha=0.7000000000000001 .................................\n",
      "[CV]  model__alpha=0.7000000000000001, score=-213067.414, total=   0.0s\n",
      "[CV] model__alpha=0.7000000000000001 .................................\n",
      "[CV]  model__alpha=0.7000000000000001, score=-11591.397, total=   0.0s\n",
      "[CV] model__alpha=0.7000000000000001 .................................\n",
      "[CV]  model__alpha=0.7000000000000001, score=-33456.117, total=   0.0s\n",
      "[CV] model__alpha=0.7000000000000001 .................................\n",
      "[CV]  model__alpha=0.7000000000000001, score=-28402.022, total=   0.0s\n",
      "[CV] model__alpha=0.7000000000000001 .................................\n",
      "[CV] . model__alpha=0.7000000000000001, score=-5648.793, total=   0.0s\n",
      "[CV] model__alpha=0.8 ................................................\n",
      "[CV] .............. model__alpha=0.8, score=-208332.760, total=   0.0s\n",
      "[CV] model__alpha=0.8 ................................................\n",
      "[CV] ............... model__alpha=0.8, score=-11574.227, total=   0.0s\n",
      "[CV] model__alpha=0.8 ................................................\n",
      "[CV] ............... model__alpha=0.8, score=-32956.728, total=   0.0s\n",
      "[CV] model__alpha=0.8 ................................................\n",
      "[CV] ............... model__alpha=0.8, score=-28467.363, total=   0.0s\n",
      "[CV] model__alpha=0.8 ................................................\n",
      "[CV] ................ model__alpha=0.8, score=-4779.771, total=   0.0s\n",
      "[CV] model__alpha=0.9 ................................................\n",
      "[CV] .............. model__alpha=0.9, score=-203685.130, total=   0.0s\n",
      "[CV] model__alpha=0.9 ................................................\n",
      "[CV] ............... model__alpha=0.9, score=-11562.785, total=   0.0s\n",
      "[CV] model__alpha=0.9 ................................................\n",
      "[CV] ............... model__alpha=0.9, score=-32466.450, total=   0.0s\n",
      "[CV] model__alpha=0.9 ................................................\n",
      "[CV] ............... model__alpha=0.9, score=-28513.436, total=   0.0s\n",
      "[CV] model__alpha=0.9 ................................................\n",
      "[CV] ................ model__alpha=0.9, score=-4100.083, total=   0.0s\n",
      "[CV] model__alpha=1.0 ................................................\n",
      "[CV] .............. model__alpha=1.0, score=-199078.508, total=   0.0s\n",
      "[CV] model__alpha=1.0 ................................................\n",
      "[CV] ............... model__alpha=1.0, score=-11557.569, total=   0.0s\n",
      "[CV] model__alpha=1.0 ................................................\n"
     ]
    },
    {
     "name": "stderr",
     "output_type": "stream",
     "text": [
      "[Parallel(n_jobs=1)]: Using backend SequentialBackend with 1 concurrent workers.\n",
      "[Parallel(n_jobs=1)]: Done   1 out of   1 | elapsed:    0.0s remaining:    0.0s\n",
      "[Parallel(n_jobs=1)]: Done   2 out of   2 | elapsed:    0.0s remaining:    0.0s\n"
     ]
    },
    {
     "name": "stdout",
     "output_type": "stream",
     "text": [
      "[CV] ............... model__alpha=1.0, score=-31985.774, total=   0.0s\n",
      "[CV] model__alpha=1.0 ................................................\n",
      "[CV] ............... model__alpha=1.0, score=-28559.856, total=   0.0s\n",
      "[CV] model__alpha=1.0 ................................................\n",
      "[CV] ................ model__alpha=1.0, score=-3712.158, total=   0.0s\n",
      "[CV] model__alpha=1.1 ................................................\n",
      "[CV] .............. model__alpha=1.1, score=-194559.588, total=   0.0s\n",
      "[CV] model__alpha=1.1 ................................................\n",
      "[CV] ............... model__alpha=1.1, score=-11559.231, total=   0.0s\n",
      "[CV] model__alpha=1.1 ................................................\n",
      "[CV] ............... model__alpha=1.1, score=-31516.893, total=   0.0s\n",
      "[CV] model__alpha=1.1 ................................................\n",
      "[CV] ............... model__alpha=1.1, score=-28605.662, total=   0.0s\n",
      "[CV] model__alpha=1.1 ................................................\n",
      "[CV] ................ model__alpha=1.1, score=-3635.953, total=   0.0s\n",
      "[CV] model__alpha=1.2000000000000002 .................................\n",
      "[CV]  model__alpha=1.2000000000000002, score=-190085.159, total=   0.0s\n",
      "[CV] model__alpha=1.2000000000000002 .................................\n",
      "[CV]  model__alpha=1.2000000000000002, score=-11566.476, total=   0.0s\n",
      "[CV] model__alpha=1.2000000000000002 .................................\n",
      "[CV]  model__alpha=1.2000000000000002, score=-31142.396, total=   0.0s\n",
      "[CV] model__alpha=1.2000000000000002 .................................\n",
      "[CV]  model__alpha=1.2000000000000002, score=-28652.413, total=   0.0s\n",
      "[CV] model__alpha=1.2000000000000002 .................................\n",
      "[CV] . model__alpha=1.2000000000000002, score=-3561.659, total=   0.0s\n",
      "[CV] model__alpha=1.3000000000000003 .................................\n",
      "[CV]  model__alpha=1.3000000000000003, score=-185706.526, total=   0.0s\n",
      "[CV] model__alpha=1.3000000000000003 .................................\n",
      "[CV]  model__alpha=1.3000000000000003, score=-11580.326, total=   0.0s\n",
      "[CV] model__alpha=1.3000000000000003 .................................\n",
      "[CV]  model__alpha=1.3000000000000003, score=-30812.959, total=   0.0s\n",
      "[CV] model__alpha=1.3000000000000003 .................................\n",
      "[CV]  model__alpha=1.3000000000000003, score=-28700.404, total=   0.0s\n",
      "[CV] model__alpha=1.3000000000000003 .................................\n",
      "[CV] . model__alpha=1.3000000000000003, score=-3488.967, total=   0.0s\n",
      "[CV] model__alpha=1.4000000000000001 .................................\n",
      "[CV]  model__alpha=1.4000000000000001, score=-181504.969, total=   0.0s\n",
      "[CV] model__alpha=1.4000000000000001 .................................\n",
      "[CV]  model__alpha=1.4000000000000001, score=-11600.546, total=   0.0s\n",
      "[CV] model__alpha=1.4000000000000001 .................................\n",
      "[CV]  model__alpha=1.4000000000000001, score=-30491.026, total=   0.0s\n",
      "[CV] model__alpha=1.4000000000000001 .................................\n",
      "[CV]  model__alpha=1.4000000000000001, score=-28770.984, total=   0.0s\n",
      "[CV] model__alpha=1.4000000000000001 .................................\n",
      "[CV] . model__alpha=1.4000000000000001, score=-3418.995, total=   0.0s\n",
      "[CV] model__alpha=1.5000000000000002 .................................\n",
      "[CV]  model__alpha=1.5000000000000002, score=-177385.386, total=   0.0s\n",
      "[CV] model__alpha=1.5000000000000002 .................................\n",
      "[CV]  model__alpha=1.5000000000000002, score=-11624.978, total=   0.0s\n",
      "[CV] model__alpha=1.5000000000000002 .................................\n",
      "[CV]  model__alpha=1.5000000000000002, score=-30178.853, total=   0.0s\n",
      "[CV] model__alpha=1.5000000000000002 .................................\n",
      "[CV]  model__alpha=1.5000000000000002, score=-28847.563, total=   0.0s\n",
      "[CV] model__alpha=1.5000000000000002 .................................\n",
      "[CV] . model__alpha=1.5000000000000002, score=-3351.038, total=   0.0s\n",
      "[CV] model__alpha=1.6 ................................................\n",
      "[CV] .............. model__alpha=1.6, score=-173297.909, total=   0.0s\n",
      "[CV] model__alpha=1.6 ................................................\n",
      "[CV] ............... model__alpha=1.6, score=-11644.020, total=   0.0s\n",
      "[CV] model__alpha=1.6 ................................................\n",
      "[CV] ............... model__alpha=1.6, score=-29874.036, total=   0.0s\n",
      "[CV] model__alpha=1.6 ................................................\n",
      "[CV] ............... model__alpha=1.6, score=-28925.503, total=   0.0s\n",
      "[CV] model__alpha=1.6 ................................................\n",
      "[CV] ................ model__alpha=1.6, score=-3285.162, total=   0.0s\n",
      "[CV] model__alpha=1.7000000000000002 .................................\n",
      "[CV]  model__alpha=1.7000000000000002, score=-169268.534, total=   0.0s\n",
      "[CV] model__alpha=1.7000000000000002 .................................\n",
      "[CV]  model__alpha=1.7000000000000002, score=-11664.862, total=   0.0s\n",
      "[CV] model__alpha=1.7000000000000002 .................................\n",
      "[CV]  model__alpha=1.7000000000000002, score=-29578.983, total=   0.0s\n",
      "[CV] model__alpha=1.7000000000000002 .................................\n",
      "[CV]  model__alpha=1.7000000000000002, score=-29002.689, total=   0.0s\n",
      "[CV] model__alpha=1.7000000000000002 .................................\n",
      "[CV] . model__alpha=1.7000000000000002, score=-3218.204, total=   0.0s\n",
      "[CV] model__alpha=1.8000000000000003 .................................\n",
      "[CV]  model__alpha=1.8000000000000003, score=-165297.321, total=   0.0s\n",
      "[CV] model__alpha=1.8000000000000003 .................................\n",
      "[CV]  model__alpha=1.8000000000000003, score=-11687.290, total=   0.0s\n",
      "[CV] model__alpha=1.8000000000000003 .................................\n",
      "[CV]  model__alpha=1.8000000000000003, score=-29292.950, total=   0.0s\n",
      "[CV] model__alpha=1.8000000000000003 .................................\n",
      "[CV]  model__alpha=1.8000000000000003, score=-29081.238, total=   0.0s\n",
      "[CV] model__alpha=1.8000000000000003 .................................\n",
      "[CV] . model__alpha=1.8000000000000003, score=-3155.285, total=   0.0s\n",
      "[CV] model__alpha=1.9000000000000001 .................................\n",
      "[CV]  model__alpha=1.9000000000000001, score=-161384.498, total=   0.0s\n",
      "[CV] model__alpha=1.9000000000000001 .................................\n",
      "[CV]  model__alpha=1.9000000000000001, score=-11709.782, total=   0.0s\n",
      "[CV] model__alpha=1.9000000000000001 .................................\n",
      "[CV]  model__alpha=1.9000000000000001, score=-29011.489, total=   0.0s\n",
      "[CV] model__alpha=1.9000000000000001 .................................\n",
      "[CV]  model__alpha=1.9000000000000001, score=-29158.981, total=   0.0s\n",
      "[CV] model__alpha=1.9000000000000001 .................................\n",
      "[CV] . model__alpha=1.9000000000000001, score=-3096.514, total=   0.0s\n",
      "[CV] model__alpha=2.0 ................................................\n",
      "[CV] .............. model__alpha=2.0, score=-157555.762, total=   0.0s\n",
      "[CV] model__alpha=2.0 ................................................\n",
      "[CV] ............... model__alpha=2.0, score=-11734.281, total=   0.0s\n",
      "[CV] model__alpha=2.0 ................................................\n",
      "[CV] ............... model__alpha=2.0, score=-28765.614, total=   0.0s\n",
      "[CV] model__alpha=2.0 ................................................\n",
      "[CV] ............... model__alpha=2.0, score=-29238.091, total=   0.0s\n",
      "[CV] model__alpha=2.0 ................................................\n",
      "[CV] ................ model__alpha=2.0, score=-2914.209, total=   0.0s\n",
      "[CV] model__alpha=2.1 ................................................\n",
      "[CV] .............. model__alpha=2.1, score=-153759.295, total=   0.0s\n",
      "[CV] model__alpha=2.1 ................................................\n",
      "[CV] ............... model__alpha=2.1, score=-11759.476, total=   0.0s\n",
      "[CV] model__alpha=2.1 ................................................\n",
      "[CV] ............... model__alpha=2.1, score=-28521.033, total=   0.0s\n",
      "[CV] model__alpha=2.1 ................................................\n",
      "[CV] ............... model__alpha=2.1, score=-29316.431, total=   0.0s\n",
      "[CV] model__alpha=2.1 ................................................\n",
      "[CV] ................ model__alpha=2.1, score=-2723.942, total=   0.0s\n",
      "[CV] model__alpha=2.2 ................................................\n",
      "[CV] .............. model__alpha=2.2, score=-150020.685, total=   0.0s\n",
      "[CV] model__alpha=2.2 ................................................\n",
      "[CV] ............... model__alpha=2.2, score=-11790.948, total=   0.0s\n",
      "[CV] model__alpha=2.2 ................................................\n",
      "[CV] ............... model__alpha=2.2, score=-28430.295, total=   0.0s\n",
      "[CV] model__alpha=2.2 ................................................\n",
      "[CV] ............... model__alpha=2.2, score=-29396.135, total=   0.0s\n",
      "[CV] model__alpha=2.2 ................................................\n",
      "[CV] ................ model__alpha=2.2, score=-2595.701, total=   0.0s\n",
      "[CV] model__alpha=2.3000000000000003 .................................\n",
      "[CV]  model__alpha=2.3000000000000003, score=-146340.262, total=   0.0s\n",
      "[CV] model__alpha=2.3000000000000003 .................................\n",
      "[CV]  model__alpha=2.3000000000000003, score=-11821.979, total=   0.0s\n",
      "[CV] model__alpha=2.3000000000000003 .................................\n",
      "[CV]  model__alpha=2.3000000000000003, score=-28530.374, total=   0.0s\n",
      "[CV] model__alpha=2.3000000000000003 .................................\n",
      "[CV]  model__alpha=2.3000000000000003, score=-29476.116, total=   0.0s\n",
      "[CV] model__alpha=2.3000000000000003 .................................\n",
      "[CV] . model__alpha=2.3000000000000003, score=-2566.802, total=   0.0s\n",
      "[CV] model__alpha=2.4000000000000004 .................................\n",
      "[CV]  model__alpha=2.4000000000000004, score=-142717.846, total=   0.0s\n",
      "[CV] model__alpha=2.4000000000000004 .................................\n",
      "[CV]  model__alpha=2.4000000000000004, score=-11852.135, total=   0.0s\n",
      "[CV] model__alpha=2.4000000000000004 .................................\n",
      "[CV]  model__alpha=2.4000000000000004, score=-28628.408, total=   0.0s\n",
      "[CV] model__alpha=2.4000000000000004 .................................\n",
      "[CV]  model__alpha=2.4000000000000004, score=-29566.059, total=   0.0s\n",
      "[CV] model__alpha=2.4000000000000004 .................................\n",
      "[CV] . model__alpha=2.4000000000000004, score=-2541.973, total=   0.0s\n",
      "[CV] model__alpha=2.5000000000000004 .................................\n",
      "[CV]  model__alpha=2.5000000000000004, score=-139153.478, total=   0.0s\n",
      "[CV] model__alpha=2.5000000000000004 .................................\n",
      "[CV]  model__alpha=2.5000000000000004, score=-11883.521, total=   0.0s\n",
      "[CV] model__alpha=2.5000000000000004 .................................\n",
      "[CV]  model__alpha=2.5000000000000004, score=-28729.129, total=   0.0s\n",
      "[CV] model__alpha=2.5000000000000004 .................................\n",
      "[CV]  model__alpha=2.5000000000000004, score=-29659.764, total=   0.0s\n",
      "[CV] model__alpha=2.5000000000000004 .................................\n",
      "[CV] . model__alpha=2.5000000000000004, score=-2540.101, total=   0.0s\n",
      "[CV] model__alpha=2.6 ................................................\n",
      "[CV] .............. model__alpha=2.6, score=-135647.290, total=   0.0s\n",
      "[CV] model__alpha=2.6 ................................................\n",
      "[CV] ............... model__alpha=2.6, score=-11914.045, total=   0.0s\n",
      "[CV] model__alpha=2.6 ................................................\n",
      "[CV] ............... model__alpha=2.6, score=-28830.330, total=   0.0s\n",
      "[CV] model__alpha=2.6 ................................................\n",
      "[CV] ............... model__alpha=2.6, score=-29752.659, total=   0.0s\n",
      "[CV] model__alpha=2.6 ................................................\n",
      "[CV] ................ model__alpha=2.6, score=-2561.351, total=   0.0s\n",
      "[CV] model__alpha=2.7 ................................................\n",
      "[CV] .............. model__alpha=2.7, score=-132225.489, total=   0.0s\n",
      "[CV] model__alpha=2.7 ................................................\n",
      "[CV] ............... model__alpha=2.7, score=-11945.798, total=   0.0s\n",
      "[CV] model__alpha=2.7 ................................................\n",
      "[CV] ............... model__alpha=2.7, score=-28932.010, total=   0.0s\n",
      "[CV] model__alpha=2.7 ................................................\n",
      "[CV] ............... model__alpha=2.7, score=-29846.947, total=   0.0s\n",
      "[CV] model__alpha=2.7 ................................................\n",
      "[CV] ................ model__alpha=2.7, score=-2605.454, total=   0.0s\n",
      "[CV] model__alpha=2.8000000000000003 .................................\n",
      "[CV]  model__alpha=2.8000000000000003, score=-128836.384, total=   0.0s\n",
      "[CV] model__alpha=2.8000000000000003 .................................\n",
      "[CV]  model__alpha=2.8000000000000003, score=-11977.745, total=   0.0s\n",
      "[CV] model__alpha=2.8000000000000003 .................................\n",
      "[CV]  model__alpha=2.8000000000000003, score=-29031.265, total=   0.0s\n",
      "[CV] model__alpha=2.8000000000000003 .................................\n",
      "[CV]  model__alpha=2.8000000000000003, score=-29940.413, total=   0.0s\n",
      "[CV] model__alpha=2.8000000000000003 .................................\n",
      "[CV] . model__alpha=2.8000000000000003, score=-2672.099, total=   0.0s\n",
      "[CV] model__alpha=2.9000000000000004 .................................\n",
      "[CV]  model__alpha=2.9000000000000004, score=-125505.376, total=   0.0s\n",
      "[CV] model__alpha=2.9000000000000004 .................................\n",
      "[CV]  model__alpha=2.9000000000000004, score=-12008.846, total=   0.0s\n",
      "[CV] model__alpha=2.9000000000000004 .................................\n",
      "[CV]  model__alpha=2.9000000000000004, score=-29133.742, total=   0.0s\n",
      "[CV] model__alpha=2.9000000000000004 .................................\n",
      "[CV]  model__alpha=2.9000000000000004, score=-30035.237, total=   0.0s\n",
      "[CV] model__alpha=2.9000000000000004 .................................\n"
     ]
    },
    {
     "name": "stdout",
     "output_type": "stream",
     "text": [
      "[CV] . model__alpha=2.9000000000000004, score=-2762.748, total=   0.0s\n",
      "[CV] model__alpha=3.0000000000000004 .................................\n",
      "[CV]  model__alpha=3.0000000000000004, score=-122232.426, total=   0.0s\n",
      "[CV] model__alpha=3.0000000000000004 .................................\n",
      "[CV]  model__alpha=3.0000000000000004, score=-12041.180, total=   0.0s\n",
      "[CV] model__alpha=3.0000000000000004 .................................\n",
      "[CV]  model__alpha=3.0000000000000004, score=-29233.851, total=   0.0s\n",
      "[CV] model__alpha=3.0000000000000004 .................................\n",
      "[CV]  model__alpha=3.0000000000000004, score=-30130.352, total=   0.0s\n",
      "[CV] model__alpha=3.0000000000000004 .................................\n",
      "[CV] . model__alpha=3.0000000000000004, score=-2875.869, total=   0.0s\n",
      "[CV] model__alpha=3.1 ................................................\n",
      "[CV] .............. model__alpha=3.1, score=-119018.054, total=   0.0s\n",
      "[CV] model__alpha=3.1 ................................................\n",
      "[CV] ............... model__alpha=3.1, score=-12073.698, total=   0.0s\n",
      "[CV] model__alpha=3.1 ................................................\n",
      "[CV] ............... model__alpha=3.1, score=-29336.954, total=   0.0s\n",
      "[CV] model__alpha=3.1 ................................................\n",
      "[CV] ............... model__alpha=3.1, score=-30224.634, total=   0.0s\n",
      "[CV] model__alpha=3.1 ................................................\n",
      "[CV] ................ model__alpha=3.1, score=-3012.001, total=   0.0s\n",
      "[CV] model__alpha=3.2 ................................................\n",
      "[CV] .............. model__alpha=3.2, score=-115862.708, total=   0.0s\n",
      "[CV] model__alpha=3.2 ................................................\n",
      "[CV] ............... model__alpha=3.2, score=-12105.334, total=   0.0s\n",
      "[CV] model__alpha=3.2 ................................................\n",
      "[CV] ............... model__alpha=3.2, score=-29437.853, total=   0.0s\n",
      "[CV] model__alpha=3.2 ................................................\n",
      "[CV] ............... model__alpha=3.2, score=-30320.301, total=   0.0s\n",
      "[CV] model__alpha=3.2 ................................................\n",
      "[CV] ................ model__alpha=3.2, score=-3170.737, total=   0.0s\n",
      "[CV] model__alpha=3.3000000000000003 .................................\n",
      "[CV]  model__alpha=3.3000000000000003, score=-112793.566, total=   0.0s\n",
      "[CV] model__alpha=3.3000000000000003 .................................\n",
      "[CV]  model__alpha=3.3000000000000003, score=-12138.197, total=   0.0s\n",
      "[CV] model__alpha=3.3000000000000003 .................................\n",
      "[CV]  model__alpha=3.3000000000000003, score=-29541.750, total=   0.0s\n",
      "[CV] model__alpha=3.3000000000000003 .................................\n",
      "[CV]  model__alpha=3.3000000000000003, score=-30416.251, total=   0.0s\n",
      "[CV] model__alpha=3.3000000000000003 .................................\n",
      "[CV] . model__alpha=3.3000000000000003, score=-3352.789, total=   0.0s\n",
      "[CV] model__alpha=3.4000000000000004 .................................\n",
      "[CV]  model__alpha=3.4000000000000004, score=-110019.771, total=   0.0s\n",
      "[CV] model__alpha=3.4000000000000004 .................................\n",
      "[CV]  model__alpha=3.4000000000000004, score=-12171.230, total=   0.0s\n",
      "[CV] model__alpha=3.4000000000000004 .................................\n",
      "[CV]  model__alpha=3.4000000000000004, score=-29643.278, total=   0.0s\n",
      "[CV] model__alpha=3.4000000000000004 .................................\n",
      "[CV]  model__alpha=3.4000000000000004, score=-30512.494, total=   0.0s\n",
      "[CV] model__alpha=3.4000000000000004 .................................\n",
      "[CV] . model__alpha=3.4000000000000004, score=-3557.028, total=   0.0s\n",
      "[CV] model__alpha=3.5000000000000004 .................................\n",
      "[CV]  model__alpha=3.5000000000000004, score=-107767.315, total=   0.0s\n",
      "[CV] model__alpha=3.5000000000000004 .................................\n",
      "[CV]  model__alpha=3.5000000000000004, score=-12204.434, total=   0.0s\n",
      "[CV] model__alpha=3.5000000000000004 .................................\n",
      "[CV]  model__alpha=3.5000000000000004, score=-29747.970, total=   0.0s\n",
      "[CV] model__alpha=3.5000000000000004 .................................\n",
      "[CV]  model__alpha=3.5000000000000004, score=-30607.888, total=   0.0s\n",
      "[CV] model__alpha=3.5000000000000004 .................................\n",
      "[CV] . model__alpha=3.5000000000000004, score=-3786.471, total=   0.0s\n",
      "[CV] model__alpha=3.6 ................................................\n",
      "[CV] .............. model__alpha=3.6, score=-105862.409, total=   0.0s\n",
      "[CV] model__alpha=3.6 ................................................\n",
      "[CV] ............... model__alpha=3.6, score=-12237.804, total=   0.0s\n",
      "[CV] model__alpha=3.6 ................................................\n",
      "[CV] ............... model__alpha=3.6, score=-29850.222, total=   0.0s\n",
      "[CV] model__alpha=3.6 ................................................\n",
      "[CV] ............... model__alpha=3.6, score=-30704.675, total=   0.0s\n",
      "[CV] model__alpha=3.6 ................................................\n",
      "[CV] ................ model__alpha=3.6, score=-4037.728, total=   0.0s\n",
      "[CV] model__alpha=3.7 ................................................\n",
      "[CV] .............. model__alpha=3.7, score=-104005.902, total=   0.0s\n",
      "[CV] model__alpha=3.7 ................................................\n",
      "[CV] ............... model__alpha=3.7, score=-12271.313, total=   0.0s\n",
      "[CV] model__alpha=3.7 ................................................\n",
      "[CV] ............... model__alpha=3.7, score=-29955.832, total=   0.0s\n",
      "[CV] model__alpha=3.7 ................................................\n",
      "[CV] ............... model__alpha=3.7, score=-30801.757, total=   0.0s\n",
      "[CV] model__alpha=3.7 ................................................\n",
      "[CV] ................ model__alpha=3.7, score=-4309.294, total=   0.0s\n",
      "[CV] model__alpha=3.8000000000000003 .................................\n",
      "[CV]  model__alpha=3.8000000000000003, score=-102149.728, total=   0.0s\n",
      "[CV] model__alpha=3.8000000000000003 .................................\n",
      "[CV]  model__alpha=3.8000000000000003, score=-12304.960, total=   0.0s\n",
      "[CV] model__alpha=3.8000000000000003 .................................\n",
      "[CV]  model__alpha=3.8000000000000003, score=-30058.907, total=   0.0s\n",
      "[CV] model__alpha=3.8000000000000003 .................................\n",
      "[CV]  model__alpha=3.8000000000000003, score=-30899.113, total=   0.0s\n",
      "[CV] model__alpha=3.8000000000000003 .................................\n",
      "[CV] . model__alpha=3.8000000000000003, score=-4488.865, total=   0.0s\n",
      "[CV] model__alpha=3.9000000000000004 .................................\n",
      "[CV]  model__alpha=3.9000000000000004, score=-100317.968, total=   0.0s\n",
      "[CV] model__alpha=3.9000000000000004 .................................\n",
      "[CV]  model__alpha=3.9000000000000004, score=-12338.747, total=   0.0s\n",
      "[CV] model__alpha=3.9000000000000004 .................................\n",
      "[CV]  model__alpha=3.9000000000000004, score=-30162.517, total=   0.0s\n",
      "[CV] model__alpha=3.9000000000000004 .................................\n",
      "[CV]  model__alpha=3.9000000000000004, score=-30996.738, total=   0.0s\n",
      "[CV] model__alpha=3.9000000000000004 .................................\n",
      "[CV] . model__alpha=3.9000000000000004, score=-4633.094, total=   0.0s\n",
      "[CV] model__alpha=4.0 ................................................\n",
      "[CV] ............... model__alpha=4.0, score=-98533.280, total=   0.0s\n",
      "[CV] model__alpha=4.0 ................................................\n",
      "[CV] ............... model__alpha=4.0, score=-12372.683, total=   0.0s\n",
      "[CV] model__alpha=4.0 ................................................\n",
      "[CV] ............... model__alpha=4.0, score=-30269.619, total=   0.0s\n",
      "[CV] model__alpha=4.0 ................................................\n",
      "[CV] ............... model__alpha=4.0, score=-31094.632, total=   0.0s\n",
      "[CV] model__alpha=4.0 ................................................\n",
      "[CV] ................ model__alpha=4.0, score=-4927.755, total=   0.0s\n",
      "[CV] model__alpha=4.1 ................................................\n",
      "[CV] ............... model__alpha=4.1, score=-96750.481, total=   0.0s\n",
      "[CV] model__alpha=4.1 ................................................\n",
      "[CV] ............... model__alpha=4.1, score=-12406.725, total=   0.0s\n",
      "[CV] model__alpha=4.1 ................................................\n",
      "[CV] ............... model__alpha=4.1, score=-30374.135, total=   0.0s\n",
      "[CV] model__alpha=4.1 ................................................\n",
      "[CV] ............... model__alpha=4.1, score=-31192.824, total=   0.0s\n",
      "[CV] model__alpha=4.1 ................................................\n",
      "[CV] ................ model__alpha=4.1, score=-5275.091, total=   0.0s\n",
      "[CV] model__alpha=4.2 ................................................\n",
      "[CV] ............... model__alpha=4.2, score=-94992.302, total=   0.0s\n",
      "[CV] model__alpha=4.2 ................................................\n",
      "[CV] ............... model__alpha=4.2, score=-12440.834, total=   0.0s\n",
      "[CV] model__alpha=4.2 ................................................\n",
      "[CV] ............... model__alpha=4.2, score=-30479.212, total=   0.0s\n",
      "[CV] model__alpha=4.2 ................................................\n",
      "[CV] ............... model__alpha=4.2, score=-31291.282, total=   0.0s\n",
      "[CV] model__alpha=4.2 ................................................\n",
      "[CV] ................ model__alpha=4.2, score=-5645.998, total=   0.0s\n",
      "[CV] model__alpha=4.3 ................................................\n",
      "[CV] ............... model__alpha=4.3, score=-93258.917, total=   0.0s\n",
      "[CV] model__alpha=4.3 ................................................\n",
      "[CV] ............... model__alpha=4.3, score=-12476.039, total=   0.0s\n",
      "[CV] model__alpha=4.3 ................................................\n",
      "[CV] ............... model__alpha=4.3, score=-30584.839, total=   0.0s\n",
      "[CV] model__alpha=4.3 ................................................\n",
      "[CV] ............... model__alpha=4.3, score=-31389.992, total=   0.0s\n",
      "[CV] model__alpha=4.3 ................................................\n",
      "[CV] ................ model__alpha=4.3, score=-6039.591, total=   0.0s\n",
      "[CV] model__alpha=4.3999999999999995 .................................\n",
      "[CV]  model__alpha=4.3999999999999995, score=-91550.462, total=   0.0s\n",
      "[CV] model__alpha=4.3999999999999995 .................................\n",
      "[CV]  model__alpha=4.3999999999999995, score=-12509.496, total=   0.0s\n",
      "[CV] model__alpha=4.3999999999999995 .................................\n",
      "[CV]  model__alpha=4.3999999999999995, score=-30690.992, total=   0.0s\n",
      "[CV] model__alpha=4.3999999999999995 .................................\n",
      "[CV]  model__alpha=4.3999999999999995, score=-31488.927, total=   0.0s\n",
      "[CV] model__alpha=4.3999999999999995 .................................\n",
      "[CV] . model__alpha=4.3999999999999995, score=-6456.289, total=   0.0s\n",
      "[CV] model__alpha=4.5 ................................................\n",
      "[CV] ............... model__alpha=4.5, score=-89867.102, total=   0.0s\n",
      "[CV] model__alpha=4.5 ................................................\n",
      "[CV] ............... model__alpha=4.5, score=-12535.990, total=   0.0s\n",
      "[CV] model__alpha=4.5 ................................................\n",
      "[CV] ............... model__alpha=4.5, score=-30797.773, total=   0.0s\n",
      "[CV] model__alpha=4.5 ................................................\n",
      "[CV] ............... model__alpha=4.5, score=-31588.115, total=   0.0s\n",
      "[CV] model__alpha=4.5 ................................................\n",
      "[CV] ................ model__alpha=4.5, score=-6896.135, total=   0.0s\n",
      "[CV] model__alpha=4.6 ................................................\n",
      "[CV] ............... model__alpha=4.6, score=-88209.001, total=   0.0s\n",
      "[CV] model__alpha=4.6 ................................................\n",
      "[CV] ............... model__alpha=4.6, score=-12562.344, total=   0.0s\n",
      "[CV] model__alpha=4.6 ................................................\n",
      "[CV] ............... model__alpha=4.6, score=-30905.322, total=   0.0s\n",
      "[CV] model__alpha=4.6 ................................................\n",
      "[CV] ............... model__alpha=4.6, score=-31687.551, total=   0.0s\n",
      "[CV] model__alpha=4.6 ................................................\n",
      "[CV] ................ model__alpha=4.6, score=-7360.847, total=   0.0s\n",
      "[CV] model__alpha=4.7 ................................................\n",
      "[CV] ............... model__alpha=4.7, score=-86576.571, total=   0.0s\n",
      "[CV] model__alpha=4.7 ................................................\n",
      "[CV] ............... model__alpha=4.7, score=-12588.803, total=   0.0s\n",
      "[CV] model__alpha=4.7 ................................................\n",
      "[CV] ............... model__alpha=4.7, score=-31013.756, total=   0.0s\n",
      "[CV] model__alpha=4.7 ................................................\n",
      "[CV] ............... model__alpha=4.7, score=-31787.228, total=   0.0s\n",
      "[CV] model__alpha=4.7 ................................................\n",
      "[CV] ................ model__alpha=4.7, score=-7845.841, total=   0.0s\n",
      "[CV] model__alpha=4.8 ................................................\n",
      "[CV] ............... model__alpha=4.8, score=-84970.136, total=   0.0s\n",
      "[CV] model__alpha=4.8 ................................................\n",
      "[CV] ............... model__alpha=4.8, score=-12615.371, total=   0.0s\n",
      "[CV] model__alpha=4.8 ................................................\n",
      "[CV] ............... model__alpha=4.8, score=-31119.367, total=   0.0s\n",
      "[CV] model__alpha=4.8 ................................................\n",
      "[CV] ............... model__alpha=4.8, score=-31888.272, total=   0.0s\n",
      "[CV] model__alpha=4.8 ................................................\n",
      "[CV] ................ model__alpha=4.8, score=-8357.140, total=   0.0s\n",
      "[CV] model__alpha=4.9 ................................................\n",
      "[CV] ............... model__alpha=4.9, score=-83371.975, total=   0.0s\n",
      "[CV] model__alpha=4.9 ................................................\n",
      "[CV] ............... model__alpha=4.9, score=-12642.044, total=   0.0s\n",
      "[CV] model__alpha=4.9 ................................................\n"
     ]
    },
    {
     "name": "stdout",
     "output_type": "stream",
     "text": [
      "[CV] ............... model__alpha=4.9, score=-31229.750, total=   0.0s\n",
      "[CV] model__alpha=4.9 ................................................\n",
      "[CV] ............... model__alpha=4.9, score=-31988.393, total=   0.0s\n",
      "[CV] model__alpha=4.9 ................................................\n",
      "[CV] ................ model__alpha=4.9, score=-8890.688, total=   0.0s\n",
      "[CV] model__alpha=5.0 ................................................\n",
      "[CV] ............... model__alpha=5.0, score=-81803.083, total=   0.0s\n",
      "[CV] model__alpha=5.0 ................................................\n",
      "[CV] ............... model__alpha=5.0, score=-12668.822, total=   0.0s\n",
      "[CV] model__alpha=5.0 ................................................\n",
      "[CV] ............... model__alpha=5.0, score=-31337.494, total=   0.0s\n",
      "[CV] model__alpha=5.0 ................................................\n",
      "[CV] ............... model__alpha=5.0, score=-32089.882, total=   0.0s\n",
      "[CV] model__alpha=5.0 ................................................\n",
      "[CV] ................ model__alpha=5.0, score=-9446.002, total=   0.0s\n",
      "[CV] model__alpha=5.1 ................................................\n",
      "[CV] ............... model__alpha=5.1, score=-80267.322, total=   0.0s\n",
      "[CV] model__alpha=5.1 ................................................\n",
      "[CV] ............... model__alpha=5.1, score=-12696.461, total=   0.0s\n",
      "[CV] model__alpha=5.1 ................................................\n",
      "[CV] ............... model__alpha=5.1, score=-31446.808, total=   0.0s\n",
      "[CV] model__alpha=5.1 ................................................\n",
      "[CV] ............... model__alpha=5.1, score=-32190.411, total=   0.0s\n",
      "[CV] model__alpha=5.1 ................................................\n",
      "[CV] ............... model__alpha=5.1, score=-10026.448, total=   0.0s\n",
      "[CV] model__alpha=5.2 ................................................\n",
      "[CV] ............... model__alpha=5.2, score=-78743.827, total=   0.0s\n",
      "[CV] model__alpha=5.2 ................................................\n",
      "[CV] ............... model__alpha=5.2, score=-12723.424, total=   0.0s\n",
      "[CV] model__alpha=5.2 ................................................\n",
      "[CV] ............... model__alpha=5.2, score=-31553.815, total=   0.0s\n",
      "[CV] model__alpha=5.2 ................................................\n",
      "[CV] ............... model__alpha=5.2, score=-32292.277, total=   0.0s\n",
      "[CV] model__alpha=5.2 ................................................\n",
      "[CV] ............... model__alpha=5.2, score=-10492.238, total=   0.0s\n",
      "[CV] model__alpha=5.3 ................................................\n",
      "[CV] ............... model__alpha=5.3, score=-77426.752, total=   0.0s\n",
      "[CV] model__alpha=5.3 ................................................\n",
      "[CV] ............... model__alpha=5.3, score=-12750.476, total=   0.0s\n",
      "[CV] model__alpha=5.3 ................................................\n",
      "[CV] ............... model__alpha=5.3, score=-31663.120, total=   0.0s\n",
      "[CV] model__alpha=5.3 ................................................\n",
      "[CV] ............... model__alpha=5.3, score=-32394.313, total=   0.0s\n",
      "[CV] model__alpha=5.3 ................................................\n",
      "[CV] ............... model__alpha=5.3, score=-10494.544, total=   0.0s\n",
      "[CV] model__alpha=5.4 ................................................\n",
      "[CV] ............... model__alpha=5.4, score=-76333.104, total=   0.0s\n",
      "[CV] model__alpha=5.4 ................................................\n",
      "[CV] ............... model__alpha=5.4, score=-12778.361, total=   0.0s\n",
      "[CV] model__alpha=5.4 ................................................\n",
      "[CV] ............... model__alpha=5.4, score=-31775.526, total=   0.0s\n",
      "[CV] model__alpha=5.4 ................................................\n",
      "[CV] ............... model__alpha=5.4, score=-32496.461, total=   0.0s\n",
      "[CV] model__alpha=5.4 ................................................\n",
      "[CV] ............... model__alpha=5.4, score=-10497.406, total=   0.0s\n",
      "[CV] model__alpha=5.5 ................................................\n",
      "[CV] ............... model__alpha=5.5, score=-75252.926, total=   0.0s\n",
      "[CV] model__alpha=5.5 ................................................\n",
      "[CV] ............... model__alpha=5.5, score=-12806.321, total=   0.0s\n",
      "[CV] model__alpha=5.5 ................................................\n",
      "[CV] ............... model__alpha=5.5, score=-31884.280, total=   0.0s\n",
      "[CV] model__alpha=5.5 ................................................\n",
      "[CV] ............... model__alpha=5.5, score=-32598.703, total=   0.0s\n",
      "[CV] model__alpha=5.5 ................................................\n",
      "[CV] ............... model__alpha=5.5, score=-10499.543, total=   0.0s\n",
      "[CV] model__alpha=5.6 ................................................\n",
      "[CV] ............... model__alpha=5.6, score=-74202.051, total=   0.0s\n",
      "[CV] model__alpha=5.6 ................................................\n",
      "[CV] ............... model__alpha=5.6, score=-12833.553, total=   0.0s\n",
      "[CV] model__alpha=5.6 ................................................\n",
      "[CV] ............... model__alpha=5.6, score=-31996.551, total=   0.0s\n",
      "[CV] model__alpha=5.6 ................................................\n",
      "[CV] ............... model__alpha=5.6, score=-32701.031, total=   0.0s\n",
      "[CV] model__alpha=5.6 ................................................\n",
      "[CV] ............... model__alpha=5.6, score=-10502.200, total=   0.0s\n",
      "[CV] model__alpha=5.7 ................................................\n",
      "[CV] ............... model__alpha=5.7, score=-73148.899, total=   0.0s\n",
      "[CV] model__alpha=5.7 ................................................\n",
      "[CV] ............... model__alpha=5.7, score=-12861.600, total=   0.0s\n",
      "[CV] model__alpha=5.7 ................................................\n",
      "[CV] ............... model__alpha=5.7, score=-32107.126, total=   0.0s\n",
      "[CV] model__alpha=5.7 ................................................\n",
      "[CV] ............... model__alpha=5.7, score=-32804.554, total=   0.0s\n",
      "[CV] model__alpha=5.7 ................................................\n",
      "[CV] ............... model__alpha=5.7, score=-10504.684, total=   0.0s\n",
      "[CV] model__alpha=5.8 ................................................\n",
      "[CV] ............... model__alpha=5.8, score=-72109.289, total=   0.0s\n",
      "[CV] model__alpha=5.8 ................................................\n",
      "[CV] ............... model__alpha=5.8, score=-12889.676, total=   0.0s\n",
      "[CV] model__alpha=5.8 ................................................\n",
      "[CV] ............... model__alpha=5.8, score=-32221.552, total=   0.0s\n",
      "[CV] model__alpha=5.8 ................................................\n",
      "[CV] ............... model__alpha=5.8, score=-32908.053, total=   0.0s\n",
      "[CV] model__alpha=5.8 ................................................\n",
      "[CV] ............... model__alpha=5.8, score=-10508.034, total=   0.0s\n",
      "[CV] model__alpha=5.9 ................................................\n",
      "[CV] ............... model__alpha=5.9, score=-71083.274, total=   0.0s\n",
      "[CV] model__alpha=5.9 ................................................\n",
      "[CV] ............... model__alpha=5.9, score=-12917.763, total=   0.0s\n",
      "[CV] model__alpha=5.9 ................................................\n",
      "[CV] ............... model__alpha=5.9, score=-32194.661, total=   0.0s\n",
      "[CV] model__alpha=5.9 ................................................\n",
      "[CV] ............... model__alpha=5.9, score=-33011.434, total=   0.0s\n",
      "[CV] model__alpha=5.9 ................................................\n",
      "[CV] ............... model__alpha=5.9, score=-10510.772, total=   0.0s\n",
      "[CV] model__alpha=6.0 ................................................\n",
      "[CV] ............... model__alpha=6.0, score=-70085.694, total=   0.0s\n",
      "[CV] model__alpha=6.0 ................................................\n",
      "[CV] ............... model__alpha=6.0, score=-12946.560, total=   0.0s\n",
      "[CV] model__alpha=6.0 ................................................\n",
      "[CV] ............... model__alpha=6.0, score=-32167.996, total=   0.0s\n",
      "[CV] model__alpha=6.0 ................................................\n",
      "[CV] ............... model__alpha=6.0, score=-33114.592, total=   0.0s\n",
      "[CV] model__alpha=6.0 ................................................\n",
      "[CV] ............... model__alpha=6.0, score=-10513.579, total=   0.0s\n",
      "[CV] model__alpha=6.1 ................................................\n",
      "[CV] ............... model__alpha=6.1, score=-69086.848, total=   0.0s\n",
      "[CV] model__alpha=6.1 ................................................\n",
      "[CV] ............... model__alpha=6.1, score=-12975.303, total=   0.0s\n",
      "[CV] model__alpha=6.1 ................................................\n",
      "[CV] ............... model__alpha=6.1, score=-32139.983, total=   0.0s\n",
      "[CV] model__alpha=6.1 ................................................\n",
      "[CV] ............... model__alpha=6.1, score=-33219.709, total=   0.0s\n",
      "[CV] model__alpha=6.1 ................................................\n",
      "[CV] ............... model__alpha=6.1, score=-10517.169, total=   0.0s\n",
      "[CV] model__alpha=6.2 ................................................\n",
      "[CV] ............... model__alpha=6.2, score=-68101.676, total=   0.0s\n",
      "[CV] model__alpha=6.2 ................................................\n",
      "[CV] ............... model__alpha=6.2, score=-13003.960, total=   0.0s\n",
      "[CV] model__alpha=6.2 ................................................\n",
      "[CV] ............... model__alpha=6.2, score=-32113.801, total=   0.0s\n",
      "[CV] model__alpha=6.2 ................................................\n",
      "[CV] ............... model__alpha=6.2, score=-33324.181, total=   0.0s\n",
      "[CV] model__alpha=6.2 ................................................\n",
      "[CV] ............... model__alpha=6.2, score=-10520.457, total=   0.0s\n",
      "[CV] model__alpha=6.3 ................................................\n",
      "[CV] ............... model__alpha=6.3, score=-67130.213, total=   0.0s\n",
      "[CV] model__alpha=6.3 ................................................\n",
      "[CV] ............... model__alpha=6.3, score=-13032.524, total=   0.0s\n",
      "[CV] model__alpha=6.3 ................................................\n",
      "[CV] ............... model__alpha=6.3, score=-32086.273, total=   0.0s\n",
      "[CV] model__alpha=6.3 ................................................\n",
      "[CV] ............... model__alpha=6.3, score=-33428.721, total=   0.0s\n",
      "[CV] model__alpha=6.3 ................................................\n",
      "[CV] ............... model__alpha=6.3, score=-10524.352, total=   0.0s\n",
      "[CV] model__alpha=6.4 ................................................\n",
      "[CV] ............... model__alpha=6.4, score=-66172.478, total=   0.0s\n",
      "[CV] model__alpha=6.4 ................................................\n",
      "[CV] ............... model__alpha=6.4, score=-13061.628, total=   0.0s\n",
      "[CV] model__alpha=6.4 ................................................\n",
      "[CV] ............... model__alpha=6.4, score=-32060.575, total=   0.0s\n",
      "[CV] model__alpha=6.4 ................................................\n",
      "[CV] ............... model__alpha=6.4, score=-33533.638, total=   0.0s\n",
      "[CV] model__alpha=6.4 ................................................\n",
      "[CV] ............... model__alpha=6.4, score=-10527.745, total=   0.0s\n",
      "[CV] model__alpha=6.5 ................................................\n",
      "[CV] ............... model__alpha=6.5, score=-65228.513, total=   0.0s\n",
      "[CV] model__alpha=6.5 ................................................\n",
      "[CV] ............... model__alpha=6.5, score=-13090.366, total=   0.0s\n",
      "[CV] model__alpha=6.5 ................................................\n",
      "[CV] ............... model__alpha=6.5, score=-32035.103, total=   0.0s\n",
      "[CV] model__alpha=6.5 ................................................\n",
      "[CV] ............... model__alpha=6.5, score=-33639.454, total=   0.0s\n",
      "[CV] model__alpha=6.5 ................................................\n",
      "[CV] ............... model__alpha=6.5, score=-10531.595, total=   0.0s\n",
      "[CV] model__alpha=6.6 ................................................\n",
      "[CV] ............... model__alpha=6.6, score=-64298.358, total=   0.0s\n",
      "[CV] model__alpha=6.6 ................................................\n",
      "[CV] ............... model__alpha=6.6, score=-13120.076, total=   0.0s\n",
      "[CV] model__alpha=6.6 ................................................\n",
      "[CV] ............... model__alpha=6.6, score=-32008.316, total=   0.0s\n",
      "[CV] model__alpha=6.6 ................................................\n",
      "[CV] ............... model__alpha=6.6, score=-33732.933, total=   0.0s\n",
      "[CV] model__alpha=6.6 ................................................\n",
      "[CV] ............... model__alpha=6.6, score=-10535.799, total=   0.0s\n",
      "[CV] model__alpha=6.7 ................................................\n",
      "[CV] ............... model__alpha=6.7, score=-63382.019, total=   0.0s\n",
      "[CV] model__alpha=6.7 ................................................\n",
      "[CV] ............... model__alpha=6.7, score=-13149.611, total=   0.0s\n",
      "[CV] model__alpha=6.7 ................................................\n",
      "[CV] ............... model__alpha=6.7, score=-31983.318, total=   0.0s\n",
      "[CV] model__alpha=6.7 ................................................\n",
      "[CV] ............... model__alpha=6.7, score=-33811.314, total=   0.0s\n",
      "[CV] model__alpha=6.7 ................................................\n",
      "[CV] ............... model__alpha=6.7, score=-10540.374, total=   0.0s\n",
      "[CV] model__alpha=6.8 ................................................\n"
     ]
    },
    {
     "name": "stdout",
     "output_type": "stream",
     "text": [
      "[CV] ............... model__alpha=6.8, score=-62479.557, total=   0.0s\n",
      "[CV] model__alpha=6.8 ................................................\n",
      "[CV] ............... model__alpha=6.8, score=-13178.936, total=   0.0s\n",
      "[CV] model__alpha=6.8 ................................................\n",
      "[CV] ............... model__alpha=6.8, score=-31958.544, total=   0.0s\n",
      "[CV] model__alpha=6.8 ................................................\n",
      "[CV] ............... model__alpha=6.8, score=-33895.871, total=   0.0s\n",
      "[CV] model__alpha=6.8 ................................................\n",
      "[CV] ............... model__alpha=6.8, score=-10544.276, total=   0.0s\n",
      "[CV] model__alpha=6.9 ................................................\n",
      "[CV] ............... model__alpha=6.9, score=-61578.387, total=   0.0s\n",
      "[CV] model__alpha=6.9 ................................................\n",
      "[CV] ............... model__alpha=6.9, score=-13208.827, total=   0.0s\n",
      "[CV] model__alpha=6.9 ................................................\n",
      "[CV] ............... model__alpha=6.9, score=-31932.503, total=   0.0s\n",
      "[CV] model__alpha=6.9 ................................................\n",
      "[CV] ............... model__alpha=6.9, score=-33999.641, total=   0.0s\n",
      "[CV] model__alpha=6.9 ................................................\n",
      "[CV] ............... model__alpha=6.9, score=-10548.485, total=   0.0s\n",
      "[CV] model__alpha=7.0 ................................................\n",
      "[CV] ............... model__alpha=7.0, score=-60704.194, total=   0.0s\n",
      "[CV] model__alpha=7.0 ................................................\n",
      "[CV] ............... model__alpha=7.0, score=-13223.236, total=   0.0s\n",
      "[CV] model__alpha=7.0 ................................................\n",
      "[CV] ............... model__alpha=7.0, score=-31908.214, total=   0.0s\n",
      "[CV] model__alpha=7.0 ................................................\n",
      "[CV] ............... model__alpha=7.0, score=-34107.115, total=   0.0s\n",
      "[CV] model__alpha=7.0 ................................................\n",
      "[CV] ............... model__alpha=7.0, score=-10552.999, total=   0.0s\n",
      "[CV] model__alpha=7.1 ................................................\n",
      "[CV] ............... model__alpha=7.1, score=-59831.633, total=   0.0s\n",
      "[CV] model__alpha=7.1 ................................................\n",
      "[CV] ............... model__alpha=7.1, score=-13235.566, total=   0.0s\n",
      "[CV] model__alpha=7.1 ................................................\n",
      "[CV] ............... model__alpha=7.1, score=-31882.666, total=   0.0s\n",
      "[CV] model__alpha=7.1 ................................................\n",
      "[CV] ............... model__alpha=7.1, score=-34214.792, total=   0.0s\n",
      "[CV] model__alpha=7.1 ................................................\n",
      "[CV] ............... model__alpha=7.1, score=-10558.702, total=   0.0s\n",
      "[CV] model__alpha=7.2 ................................................\n",
      "[CV] ............... model__alpha=7.2, score=-58985.999, total=   0.0s\n",
      "[CV] model__alpha=7.2 ................................................\n",
      "[CV] ............... model__alpha=7.2, score=-13256.510, total=   0.0s\n",
      "[CV] model__alpha=7.2 ................................................\n",
      "[CV] ............... model__alpha=7.2, score=-31858.862, total=   0.0s\n",
      "[CV] model__alpha=7.2 ................................................\n",
      "[CV] ............... model__alpha=7.2, score=-34321.189, total=   0.0s\n",
      "[CV] model__alpha=7.2 ................................................\n",
      "[CV] ............... model__alpha=7.2, score=-10563.725, total=   0.0s\n",
      "[CV] model__alpha=7.3 ................................................\n",
      "[CV] ............... model__alpha=7.3, score=-58142.468, total=   0.0s\n",
      "[CV] model__alpha=7.3 ................................................\n",
      "[CV] ............... model__alpha=7.3, score=-13286.611, total=   0.0s\n",
      "[CV] model__alpha=7.3 ................................................\n",
      "[CV] ............... model__alpha=7.3, score=-31835.287, total=   0.0s\n",
      "[CV] model__alpha=7.3 ................................................\n",
      "[CV] ............... model__alpha=7.3, score=-34427.460, total=   0.0s\n",
      "[CV] model__alpha=7.3 ................................................\n",
      "[CV] ............... model__alpha=7.3, score=-10567.958, total=   0.0s\n",
      "[CV] model__alpha=7.4 ................................................\n",
      "[CV] ............... model__alpha=7.4, score=-57313.591, total=   0.0s\n",
      "[CV] model__alpha=7.4 ................................................\n",
      "[CV] ............... model__alpha=7.4, score=-13317.162, total=   0.0s\n",
      "[CV] model__alpha=7.4 ................................................\n",
      "[CV] ............... model__alpha=7.4, score=-31810.504, total=   0.0s\n",
      "[CV] model__alpha=7.4 ................................................\n",
      "[CV] ............... model__alpha=7.4, score=-34532.945, total=   0.0s\n",
      "[CV] model__alpha=7.4 ................................................\n",
      "[CV] ............... model__alpha=7.4, score=-10573.377, total=   0.0s\n",
      "[CV] model__alpha=7.5 ................................................\n",
      "[CV] ............... model__alpha=7.5, score=-56499.489, total=   0.0s\n",
      "[CV] model__alpha=7.5 ................................................\n",
      "[CV] ............... model__alpha=7.5, score=-13347.971, total=   0.0s\n",
      "[CV] model__alpha=7.5 ................................................\n",
      "[CV] ............... model__alpha=7.5, score=-31787.414, total=   0.0s\n",
      "[CV] model__alpha=7.5 ................................................\n",
      "[CV] ............... model__alpha=7.5, score=-34639.391, total=   0.0s\n",
      "[CV] model__alpha=7.5 ................................................\n",
      "[CV] ............... model__alpha=7.5, score=-10579.048, total=   0.0s\n",
      "[CV] model__alpha=7.6 ................................................\n",
      "[CV] ............... model__alpha=7.6, score=-55700.242, total=   0.0s\n",
      "[CV] model__alpha=7.6 ................................................\n",
      "[CV] ............... model__alpha=7.6, score=-13378.384, total=   0.0s\n",
      "[CV] model__alpha=7.6 ................................................\n",
      "[CV] ............... model__alpha=7.6, score=-31763.132, total=   0.0s\n",
      "[CV] model__alpha=7.6 ................................................\n",
      "[CV] ............... model__alpha=7.6, score=-34746.626, total=   0.0s\n",
      "[CV] model__alpha=7.6 ................................................\n",
      "[CV] ............... model__alpha=7.6, score=-10584.961, total=   0.0s\n",
      "[CV] model__alpha=7.7 ................................................\n",
      "[CV] ............... model__alpha=7.7, score=-54902.263, total=   0.0s\n",
      "[CV] model__alpha=7.7 ................................................\n",
      "[CV] ............... model__alpha=7.7, score=-13409.619, total=   0.0s\n",
      "[CV] model__alpha=7.7 ................................................\n",
      "[CV] ............... model__alpha=7.7, score=-31740.528, total=   0.0s\n",
      "[CV] model__alpha=7.7 ................................................\n",
      "[CV] ............... model__alpha=7.7, score=-34853.513, total=   0.0s\n",
      "[CV] model__alpha=7.7 ................................................\n",
      "[CV] ............... model__alpha=7.7, score=-10590.051, total=   0.0s\n",
      "[CV] model__alpha=7.8 ................................................\n",
      "[CV] ............... model__alpha=7.8, score=-54132.380, total=   0.0s\n",
      "[CV] model__alpha=7.8 ................................................\n",
      "[CV] ............... model__alpha=7.8, score=-13440.710, total=   0.0s\n",
      "[CV] model__alpha=7.8 ................................................\n",
      "[CV] ............... model__alpha=7.8, score=-31716.750, total=   0.0s\n",
      "[CV] model__alpha=7.8 ................................................\n",
      "[CV] ............... model__alpha=7.8, score=-34960.985, total=   0.0s\n",
      "[CV] model__alpha=7.8 ................................................\n",
      "[CV] ............... model__alpha=7.8, score=-10596.367, total=   0.0s\n",
      "[CV] model__alpha=7.9 ................................................\n",
      "[CV] ............... model__alpha=7.9, score=-53391.701, total=   0.0s\n",
      "[CV] model__alpha=7.9 ................................................\n",
      "[CV] ............... model__alpha=7.9, score=-13471.540, total=   0.0s\n",
      "[CV] model__alpha=7.9 ................................................\n",
      "[CV] ............... model__alpha=7.9, score=-31694.633, total=   0.0s\n",
      "[CV] model__alpha=7.9 ................................................\n",
      "[CV] ............... model__alpha=7.9, score=-35068.985, total=   0.0s\n",
      "[CV] model__alpha=7.9 ................................................\n",
      "[CV] ............... model__alpha=7.9, score=-10601.863, total=   0.0s\n",
      "[CV] model__alpha=8.0 ................................................\n",
      "[CV] ............... model__alpha=8.0, score=-52651.337, total=   0.0s\n",
      "[CV] model__alpha=8.0 ................................................\n",
      "[CV] ............... model__alpha=8.0, score=-13502.798, total=   0.0s\n",
      "[CV] model__alpha=8.0 ................................................\n",
      "[CV] ............... model__alpha=8.0, score=-31671.362, total=   0.0s\n",
      "[CV] model__alpha=8.0 ................................................\n",
      "[CV] ............... model__alpha=8.0, score=-35176.447, total=   0.0s\n",
      "[CV] model__alpha=8.0 ................................................\n",
      "[CV] ............... model__alpha=8.0, score=-10608.573, total=   0.0s\n",
      "[CV] model__alpha=8.1 ................................................\n",
      "[CV] ............... model__alpha=8.1, score=-51940.063, total=   0.0s\n",
      "[CV] model__alpha=8.1 ................................................\n",
      "[CV] ............... model__alpha=8.1, score=-13534.430, total=   0.0s\n",
      "[CV] model__alpha=8.1 ................................................\n",
      "[CV] ............... model__alpha=8.1, score=-31649.732, total=   0.0s\n",
      "[CV] model__alpha=8.1 ................................................\n",
      "[CV] ............... model__alpha=8.1, score=-35284.361, total=   0.0s\n",
      "[CV] model__alpha=8.1 ................................................\n",
      "[CV] ............... model__alpha=8.1, score=-10614.462, total=   0.0s\n",
      "[CV] model__alpha=8.2 ................................................\n",
      "[CV] ............... model__alpha=8.2, score=-51242.981, total=   0.0s\n",
      "[CV] model__alpha=8.2 ................................................\n",
      "[CV] ............... model__alpha=8.2, score=-13565.617, total=   0.0s\n",
      "[CV] model__alpha=8.2 ................................................\n",
      "[CV] ............... model__alpha=8.2, score=-31626.973, total=   0.0s\n",
      "[CV] model__alpha=8.2 ................................................\n",
      "[CV] ............... model__alpha=8.2, score=-35393.736, total=   0.0s\n",
      "[CV] model__alpha=8.2 ................................................\n",
      "[CV] ............... model__alpha=8.2, score=-10621.570, total=   0.0s\n",
      "[CV] model__alpha=8.3 ................................................\n",
      "[CV] ............... model__alpha=8.3, score=-50545.478, total=   0.0s\n",
      "[CV] model__alpha=8.3 ................................................\n",
      "[CV] ............... model__alpha=8.3, score=-13597.875, total=   0.0s\n",
      "[CV] model__alpha=8.3 ................................................\n",
      "[CV] ............... model__alpha=8.3, score=-31604.466, total=   0.0s\n",
      "[CV] model__alpha=8.3 ................................................\n",
      "[CV] ............... model__alpha=8.3, score=-35502.494, total=   0.0s\n",
      "[CV] model__alpha=8.3 ................................................\n",
      "[CV] ............... model__alpha=8.3, score=-10627.788, total=   0.0s\n",
      "[CV] model__alpha=8.4 ................................................\n",
      "[CV] ............... model__alpha=8.4, score=-49876.856, total=   0.0s\n",
      "[CV] model__alpha=8.4 ................................................\n",
      "[CV] ............... model__alpha=8.4, score=-13629.638, total=   0.0s\n",
      "[CV] model__alpha=8.4 ................................................\n",
      "[CV] ............... model__alpha=8.4, score=-31583.589, total=   0.0s\n",
      "[CV] model__alpha=8.4 ................................................\n",
      "[CV] ............... model__alpha=8.4, score=-35610.618, total=   0.0s\n",
      "[CV] model__alpha=8.4 ................................................\n",
      "[CV] ............... model__alpha=8.4, score=-10634.225, total=   0.0s\n",
      "[CV] model__alpha=8.5 ................................................\n",
      "[CV] ............... model__alpha=8.5, score=-49222.032, total=   0.0s\n",
      "[CV] model__alpha=8.5 ................................................\n",
      "[CV] ............... model__alpha=8.5, score=-13661.658, total=   0.0s\n",
      "[CV] model__alpha=8.5 ................................................\n",
      "[CV] ............... model__alpha=8.5, score=-31561.601, total=   0.0s\n",
      "[CV] model__alpha=8.5 ................................................\n",
      "[CV] ............... model__alpha=8.5, score=-35720.151, total=   0.0s\n",
      "[CV] model__alpha=8.5 ................................................\n",
      "[CV] ............... model__alpha=8.5, score=-10641.867, total=   0.0s\n",
      "[CV] model__alpha=8.6 ................................................\n",
      "[CV] ............... model__alpha=8.6, score=-48580.799, total=   0.0s\n",
      "[CV] model__alpha=8.6 ................................................\n",
      "[CV] ............... model__alpha=8.6, score=-13693.939, total=   0.0s\n",
      "[CV] model__alpha=8.6 ................................................\n",
      "[CV] ............... model__alpha=8.6, score=-31541.213, total=   0.0s\n",
      "[CV] model__alpha=8.6 ................................................\n",
      "[CV] ............... model__alpha=8.6, score=-35830.051, total=   0.0s\n",
      "[CV] model__alpha=8.6 ................................................\n",
      "[CV] ............... model__alpha=8.6, score=-10648.623, total=   0.0s\n",
      "[CV] model__alpha=8.7 ................................................\n",
      "[CV] ............... model__alpha=8.7, score=-47952.876, total=   0.0s\n",
      "[CV] model__alpha=8.7 ................................................\n",
      "[CV] ............... model__alpha=8.7, score=-13726.447, total=   0.0s\n",
      "[CV] model__alpha=8.7 ................................................\n",
      "[CV] ............... model__alpha=8.7, score=-31519.742, total=   0.0s\n",
      "[CV] model__alpha=8.7 ................................................\n",
      "[CV] ............... model__alpha=8.7, score=-35940.306, total=   0.0s\n",
      "[CV] model__alpha=8.7 ................................................\n",
      "[CV] ............... model__alpha=8.7, score=-10655.545, total=   0.0s\n",
      "[CV] model__alpha=8.8 ................................................\n",
      "[CV] ............... model__alpha=8.8, score=-47353.715, total=   0.0s\n",
      "[CV] model__alpha=8.8 ................................................\n",
      "[CV] ............... model__alpha=8.8, score=-13758.407, total=   0.0s\n",
      "[CV] model__alpha=8.8 ................................................\n"
     ]
    },
    {
     "name": "stdout",
     "output_type": "stream",
     "text": [
      "[CV] ............... model__alpha=8.8, score=-31498.521, total=   0.0s\n",
      "[CV] model__alpha=8.8 ................................................\n",
      "[CV] ............... model__alpha=8.8, score=-36049.897, total=   0.0s\n",
      "[CV] model__alpha=8.8 ................................................\n",
      "[CV] ............... model__alpha=8.8, score=-10663.756, total=   0.0s\n",
      "[CV] model__alpha=8.9 ................................................\n",
      "[CV] ............... model__alpha=8.9, score=-46728.932, total=   0.0s\n",
      "[CV] model__alpha=8.9 ................................................\n",
      "[CV] ............... model__alpha=8.9, score=-13791.353, total=   0.0s\n",
      "[CV] model__alpha=8.9 ................................................\n",
      "[CV] ............... model__alpha=8.9, score=-31478.878, total=   0.0s\n",
      "[CV] model__alpha=8.9 ................................................\n",
      "[CV] ............... model__alpha=8.9, score=-36160.847, total=   0.0s\n",
      "[CV] model__alpha=8.9 ................................................\n",
      "[CV] ............... model__alpha=8.9, score=-10670.981, total=   0.0s\n",
      "[CV] model__alpha=9.0 ................................................\n",
      "[CV] ............... model__alpha=9.0, score=-46103.062, total=   0.0s\n",
      "[CV] model__alpha=9.0 ................................................\n",
      "[CV] ............... model__alpha=9.0, score=-13823.732, total=   0.0s\n",
      "[CV] model__alpha=9.0 ................................................\n",
      "[CV] ............... model__alpha=9.0, score=-31458.189, total=   0.0s\n",
      "[CV] model__alpha=9.0 ................................................\n",
      "[CV] ............... model__alpha=9.0, score=-36271.120, total=   0.0s\n",
      "[CV] model__alpha=9.0 ................................................\n",
      "[CV] ............... model__alpha=9.0, score=-10678.408, total=   0.0s\n",
      "[CV] model__alpha=9.1 ................................................\n",
      "[CV] ............... model__alpha=9.1, score=-45491.580, total=   0.0s\n",
      "[CV] model__alpha=9.1 ................................................\n",
      "[CV] ............... model__alpha=9.1, score=-13857.086, total=   0.0s\n",
      "[CV] model__alpha=9.1 ................................................\n",
      "[CV] ............... model__alpha=9.1, score=-31437.844, total=   0.0s\n",
      "[CV] model__alpha=9.1 ................................................\n",
      "[CV] ............... model__alpha=9.1, score=-36381.721, total=   0.0s\n",
      "[CV] model__alpha=9.1 ................................................\n",
      "[CV] ............... model__alpha=9.1, score=-10685.983, total=   0.0s\n",
      "[CV] model__alpha=9.2 ................................................\n",
      "[CV] ............... model__alpha=9.2, score=-44891.524, total=   0.0s\n",
      "[CV] model__alpha=9.2 ................................................\n",
      "[CV] ............... model__alpha=9.2, score=-13889.863, total=   0.0s\n",
      "[CV] model__alpha=9.2 ................................................\n",
      "[CV] ............... model__alpha=9.2, score=-31417.789, total=   0.0s\n",
      "[CV] model__alpha=9.2 ................................................\n",
      "[CV] ............... model__alpha=9.2, score=-36493.673, total=   0.0s\n",
      "[CV] model__alpha=9.2 ................................................\n",
      "[CV] ............... model__alpha=9.2, score=-10693.754, total=   0.0s\n",
      "[CV] model__alpha=9.3 ................................................\n",
      "[CV] ............... model__alpha=9.3, score=-44306.756, total=   0.0s\n",
      "[CV] model__alpha=9.3 ................................................\n",
      "[CV] ............... model__alpha=9.3, score=-13922.828, total=   0.0s\n",
      "[CV] model__alpha=9.3 ................................................\n",
      "[CV] ............... model__alpha=9.3, score=-31398.016, total=   0.0s\n",
      "[CV] model__alpha=9.3 ................................................\n",
      "[CV] ............... model__alpha=9.3, score=-36604.931, total=   0.0s\n",
      "[CV] model__alpha=9.3 ................................................\n",
      "[CV] ............... model__alpha=9.3, score=-10702.774, total=   0.0s\n",
      "[CV] model__alpha=9.4 ................................................\n",
      "[CV] ............... model__alpha=9.4, score=-43734.247, total=   0.0s\n",
      "[CV] model__alpha=9.4 ................................................\n",
      "[CV] ............... model__alpha=9.4, score=-13956.754, total=   0.0s\n",
      "[CV] model__alpha=9.4 ................................................\n",
      "[CV] ............... model__alpha=9.4, score=-31378.528, total=   0.0s\n",
      "[CV] model__alpha=9.4 ................................................\n",
      "[CV] ............... model__alpha=9.4, score=-36716.505, total=   0.0s\n",
      "[CV] model__alpha=9.4 ................................................\n",
      "[CV] ............... model__alpha=9.4, score=-10710.818, total=   0.0s\n",
      "[CV] model__alpha=9.5 ................................................\n",
      "[CV] ............... model__alpha=9.5, score=-43177.770, total=   0.0s\n",
      "[CV] model__alpha=9.5 ................................................\n",
      "[CV] ............... model__alpha=9.5, score=-13990.092, total=   0.0s\n",
      "[CV] model__alpha=9.5 ................................................\n",
      "[CV] ............... model__alpha=9.5, score=-31359.327, total=   0.0s\n",
      "[CV] model__alpha=9.5 ................................................\n",
      "[CV] ............... model__alpha=9.5, score=-36798.903, total=   0.0s\n",
      "[CV] model__alpha=9.5 ................................................\n",
      "[CV] ............... model__alpha=9.5, score=-10719.053, total=   0.0s\n",
      "[CV] model__alpha=9.6 ................................................\n",
      "[CV] ............... model__alpha=9.6, score=-42630.219, total=   0.0s\n",
      "[CV] model__alpha=9.6 ................................................\n",
      "[CV] ............... model__alpha=9.6, score=-14023.609, total=   0.0s\n",
      "[CV] model__alpha=9.6 ................................................\n",
      "[CV] ............... model__alpha=9.6, score=-31340.416, total=   0.0s\n",
      "[CV] model__alpha=9.6 ................................................\n",
      "[CV] ............... model__alpha=9.6, score=-36857.860, total=   0.0s\n",
      "[CV] model__alpha=9.6 ................................................\n",
      "[CV] ............... model__alpha=9.6, score=-10727.438, total=   0.0s\n",
      "[CV] model__alpha=9.700000000000001 ..................................\n",
      "[CV] . model__alpha=9.700000000000001, score=-42098.824, total=   0.0s\n",
      "[CV] model__alpha=9.700000000000001 ..................................\n",
      "[CV] . model__alpha=9.700000000000001, score=-14057.304, total=   0.0s\n",
      "[CV] model__alpha=9.700000000000001 ..................................\n",
      "[CV] . model__alpha=9.700000000000001, score=-31321.796, total=   0.0s\n",
      "[CV] model__alpha=9.700000000000001 ..................................\n",
      "[CV] . model__alpha=9.700000000000001, score=-36916.334, total=   0.0s\n",
      "[CV] model__alpha=9.700000000000001 ..................................\n",
      "[CV] . model__alpha=9.700000000000001, score=-10735.968, total=   0.0s\n",
      "[CV] model__alpha=9.8 ................................................\n",
      "[CV] ............... model__alpha=9.8, score=-41576.698, total=   0.0s\n",
      "[CV] model__alpha=9.8 ................................................\n",
      "[CV] ............... model__alpha=9.8, score=-14091.175, total=   0.0s\n",
      "[CV] model__alpha=9.8 ................................................\n",
      "[CV] ............... model__alpha=9.8, score=-31303.475, total=   0.0s\n",
      "[CV] model__alpha=9.8 ................................................\n",
      "[CV] ............... model__alpha=9.8, score=-36974.170, total=   0.0s\n",
      "[CV] model__alpha=9.8 ................................................\n",
      "[CV] ............... model__alpha=9.8, score=-10745.814, total=   0.0s\n",
      "[CV] model__alpha=9.9 ................................................\n",
      "[CV] ............... model__alpha=9.9, score=-41070.708, total=   0.0s\n",
      "[CV] model__alpha=9.9 ................................................\n",
      "[CV] ............... model__alpha=9.9, score=-14125.220, total=   0.0s\n",
      "[CV] model__alpha=9.9 ................................................\n",
      "[CV] ............... model__alpha=9.9, score=-31285.457, total=   0.0s\n",
      "[CV] model__alpha=9.9 ................................................\n",
      "[CV] ............... model__alpha=9.9, score=-37032.031, total=   0.0s\n",
      "[CV] model__alpha=9.9 ................................................\n",
      "[CV] ............... model__alpha=9.9, score=-10754.641, total=   0.0s\n"
     ]
    },
    {
     "name": "stderr",
     "output_type": "stream",
     "text": [
      "[Parallel(n_jobs=1)]: Done 495 out of 495 | elapsed:    2.1s finished\n"
     ]
    },
    {
     "data": {
      "text/plain": [
       "GridSearchCV(cv=5,\n",
       "             estimator=Pipeline(steps=[('scaler', StandardScaler()),\n",
       "                                       ('model', Lasso())]),\n",
       "             param_grid={'model__alpha': array([0.1, 0.2, 0.3, 0.4, 0.5, 0.6, 0.7, 0.8, 0.9, 1. , 1.1, 1.2, 1.3,\n",
       "       1.4, 1.5, 1.6, 1.7, 1.8, 1.9, 2. , 2.1, 2.2, 2.3, 2.4, 2.5, 2.6,\n",
       "       2.7, 2.8, 2.9, 3. , 3.1, 3.2, 3.3, 3.4, 3.5, 3.6, 3.7, 3.8, 3.9,\n",
       "       4. , 4.1, 4.2, 4.3, 4.4, 4.5, 4.6, 4.7, 4.8, 4.9, 5. , 5.1, 5.2,\n",
       "       5.3, 5.4, 5.5, 5.6, 5.7, 5.8, 5.9, 6. , 6.1, 6.2, 6.3, 6.4, 6.5,\n",
       "       6.6, 6.7, 6.8, 6.9, 7. , 7.1, 7.2, 7.3, 7.4, 7.5, 7.6, 7.7, 7.8,\n",
       "       7.9, 8. , 8.1, 8.2, 8.3, 8.4, 8.5, 8.6, 8.7, 8.8, 8.9, 9. , 9.1,\n",
       "       9.2, 9.3, 9.4, 9.5, 9.6, 9.7, 9.8, 9.9])},\n",
       "             scoring='neg_mean_squared_error', verbose=3)"
      ]
     },
     "execution_count": 35,
     "metadata": {},
     "output_type": "execute_result"
    }
   ],
   "source": [
    "#fitting to training data\n",
    "search.fit(X_train,y_train)"
   ]
  },
  {
   "cell_type": "code",
   "execution_count": 36,
   "id": "0c0927a2",
   "metadata": {},
   "outputs": [
    {
     "data": {
      "text/plain": [
       "{'model__alpha': 9.9}"
      ]
     },
     "execution_count": 36,
     "metadata": {},
     "output_type": "execute_result"
    }
   ],
   "source": [
    "#checking for best alpha to use\n",
    "search.best_params_"
   ]
  },
  {
   "cell_type": "code",
   "execution_count": 37,
   "id": "c56af49c",
   "metadata": {},
   "outputs": [],
   "source": [
    "#building coefficients to check for usefulness\n",
    "coefficients = search.best_estimator_.named_steps['model'].coef_"
   ]
  },
  {
   "cell_type": "code",
   "execution_count": 38,
   "id": "366c293f",
   "metadata": {},
   "outputs": [
    {
     "data": {
      "text/plain": [
       "array([ 36.06453946,   1.22431978,  15.1978094 ,   9.86345544,\n",
       "        18.40295861,   0.        , 517.54653439,   6.68460747,\n",
       "       141.46766451])"
      ]
     },
     "execution_count": 38,
     "metadata": {},
     "output_type": "execute_result"
    }
   ],
   "source": [
    "#displaying usefullness of coefficients\n",
    "importance = np.abs(coefficients)\n",
    "importance"
   ]
  },
  {
   "cell_type": "code",
   "execution_count": 39,
   "id": "db3db2f1",
   "metadata": {},
   "outputs": [
    {
     "data": {
      "text/plain": [
       "Lasso()"
      ]
     },
     "execution_count": 39,
     "metadata": {},
     "output_type": "execute_result"
    }
   ],
   "source": [
    "#using best alpha building tuned lasso model\n",
    "las_tuned = Lasso()\n",
    "Lasso(alpha=9.9, copy_X=True, fit_intercept=True, max_iter=1000,\n",
    "   normalize=True, positive=False, precompute=False, random_state=None,\n",
    "   selection='cyclic', tol=0.0001, warm_start=False) \n",
    "las.fit(X_train, y_train)"
   ]
  },
  {
   "cell_type": "code",
   "execution_count": 40,
   "id": "b2ff6721",
   "metadata": {},
   "outputs": [
    {
     "name": "stdout",
     "output_type": "stream",
     "text": [
      "Model score (R-squared): 0.95\n"
     ]
    }
   ],
   "source": [
    "#testing tuned lasso regression model for R-squared score on training data\n",
    "score = las.score(X_train, y_train)\n",
    "print(\"Model score (R-squared): %.2f\" % score)"
   ]
  },
  {
   "cell_type": "code",
   "execution_count": 41,
   "id": "d4b66079",
   "metadata": {},
   "outputs": [
    {
     "name": "stdout",
     "output_type": "stream",
     "text": [
      "MSE: 20867.35\n"
     ]
    }
   ],
   "source": [
    "#testing tuned lasso regression model for mean squared error\n",
    "ypred = las.predict(X_test)\n",
    "mse = mean_squared_error(y_test, ypred)\n",
    "print(\"MSE: %.2f\" % mse)"
   ]
  },
  {
   "cell_type": "code",
   "execution_count": 42,
   "id": "fc2f3c23",
   "metadata": {},
   "outputs": [
    {
     "name": "stdout",
     "output_type": "stream",
     "text": [
      "Coefficient of determination: 0.84\n"
     ]
    }
   ],
   "source": [
    "#testing tuned lasso regression model for the coefficient of determination\n",
    "cod = r2_score(y_test, ypred)\n",
    "print(\"Coefficient of determination: %.2f\" % cod)"
   ]
  },
  {
   "cell_type": "code",
   "execution_count": 43,
   "id": "669ce978",
   "metadata": {},
   "outputs": [
    {
     "name": "stdout",
     "output_type": "stream",
     "text": [
      "RMSE: 144.46\n"
     ]
    }
   ],
   "source": [
    "#testing tuned lasso regression model for root-mean-squared error\n",
    "print(\"RMSE: %.2f\" % np.sqrt(mse))"
   ]
  },
  {
   "cell_type": "code",
   "execution_count": 44,
   "id": "8133763c",
   "metadata": {},
   "outputs": [
    {
     "data": {
      "image/png": "[encoded data removed]",
      "text/plain": [
       "<Figure size 640x480 with 1 Axes>"
      ]
     },
     "metadata": {},
     "output_type": "display_data"
    }
   ],
   "source": [
    "#plotting tuned lasso regression model \n",
    "x_ax = range(len(X_test))\n",
    "plt.scatter(x_ax, y_test, s=5, color=\"blue\", label=\"original\")\n",
    "plt.plot(x_ax, ypred,lw=0.8, color=\"red\", label=\"predicted\")\n",
    "plt.legend()\n",
    "plt.show()"
   ]
  },
  {
   "cell_type": "markdown",
   "id": "07fd21a5",
   "metadata": {},
   "source": [
    "no difference when changed alpha to 9.9"
   ]
  },
  {
   "cell_type": "markdown",
   "id": "e5d64870",
   "metadata": {},
   "source": [
    "LassoCV Model"
   ]
  },
  {
   "cell_type": "code",
   "execution_count": 45,
   "id": "6f01de7a",
   "metadata": {},
   "outputs": [
    {
     "name": "stdout",
     "output_type": "stream",
     "text": [
      "LassoCV(alphas=[0.1, 0.3, 0.5, 0.8, 1], cv=5)\n"
     ]
    }
   ],
   "source": [
    "#building lassoCV model with multiple alphas\n",
    "alphas = [0.1,0.3, 0.5, 0.8, 1]\n",
    "lassocv = LassoCV(alphas=alphas, cv=5).fit(X,y)\n",
    "print(lassocv)"
   ]
  },
  {
   "cell_type": "code",
   "execution_count": 46,
   "id": "c42dd652",
   "metadata": {},
   "outputs": [
    {
     "name": "stdout",
     "output_type": "stream",
     "text": [
      "Alpha:1.00, R2:0.939, MSE:9807.65, RMSE:99.03\n"
     ]
    }
   ],
   "source": [
    "#checking R2, MSE, RMSE at best alpha for lassoCV model\n",
    "score = lassocv.score(X,y)\n",
    "ypred = lassocv.predict(X_test)\n",
    "mse = mean_squared_error(y_test,ypred)\n",
    "print(\"Alpha:{0:.2f}, R2:{1:.3f}, MSE:{2:.2f}, RMSE:{3:.2f}\"\n",
    "    .format(lassocv.alpha_, score, mse, np.sqrt(mse)))"
   ]
  },
  {
   "cell_type": "code",
   "execution_count": 47,
   "id": "6be4d9f2",
   "metadata": {},
   "outputs": [
    {
     "data": {
      "image/png": "[encoded data removed]",
      "text/plain": [
       "<Figure size 640x480 with 1 Axes>"
      ]
     },
     "metadata": {},
     "output_type": "display_data"
    }
   ],
   "source": [
    "#plotting lassoCV model\n",
    "x_ax = range(len(X_test))\n",
    "plt.scatter(x_ax, y_test, s=5, color=\"blue\", label=\"original\")\n",
    "plt.plot(x_ax, ypred,lw=0.8, color=\"red\", label=\"predicted\")\n",
    "plt.legend()\n",
    "plt.show()"
   ]
  },
  {
   "cell_type": "markdown",
   "id": "84f4e80a",
   "metadata": {},
   "source": [
    "Worse R2 score, better MSE and RMSE with lassoCV"
   ]
  },
  {
   "cell_type": "markdown",
   "id": "4c21b7c8",
   "metadata": {},
   "source": [
    "Least Angles Regression Model"
   ]
  },
  {
   "cell_type": "code",
   "execution_count": 48,
   "id": "d9ae4a9e",
   "metadata": {},
   "outputs": [
    {
     "data": {
      "text/plain": [
       "Lars()"
      ]
     },
     "execution_count": 48,
     "metadata": {},
     "output_type": "execute_result"
    }
   ],
   "source": [
    "#building least angle regression model\n",
    "lars = Lars()\n",
    "lars.fit(X_train, y_train)"
   ]
  },
  {
   "cell_type": "code",
   "execution_count": 49,
   "id": "6acdde3f",
   "metadata": {},
   "outputs": [
    {
     "name": "stdout",
     "output_type": "stream",
     "text": [
      "Model score (R-squared): 0.75\n"
     ]
    }
   ],
   "source": [
    "#testing least angle regression model R2 score on training data\n",
    "score = lars.score(X_train,y_train)\n",
    "print(\"Model score (R-squared): %.2f\" % score)"
   ]
  },
  {
   "cell_type": "code",
   "execution_count": 50,
   "id": "61919135",
   "metadata": {},
   "outputs": [
    {
     "name": "stdout",
     "output_type": "stream",
     "text": [
      "MSE: 64558.82\n"
     ]
    }
   ],
   "source": [
    "#testing least angle regression model mean squared error score\n",
    "ypred = lars.predict(X_test)\n",
    "mse = mean_squared_error(y_test, ypred)\n",
    "print(\"MSE: %.2f\" % mse)"
   ]
  },
  {
   "cell_type": "code",
   "execution_count": 51,
   "id": "0ba39c26",
   "metadata": {},
   "outputs": [
    {
     "name": "stdout",
     "output_type": "stream",
     "text": [
      "Coefficient of determination: 0.52\n"
     ]
    }
   ],
   "source": [
    "#testing least angle regression model coefficient of determination\n",
    "cod = r2_score(y_test, ypred)\n",
    "print(\"Coefficient of determination: %.2f\" % cod)"
   ]
  },
  {
   "cell_type": "code",
   "execution_count": 52,
   "id": "84ae3cfa",
   "metadata": {},
   "outputs": [
    {
     "name": "stdout",
     "output_type": "stream",
     "text": [
      "RMSE: 254.08\n"
     ]
    }
   ],
   "source": [
    "#testing least angle regression model root-mean-squared score \n",
    "print(\"RMSE: %.2f\" % np.sqrt(mse))"
   ]
  },
  {
   "cell_type": "code",
   "execution_count": 53,
   "id": "9f863021",
   "metadata": {},
   "outputs": [
    {
     "data": {
      "image/png": "[encoded data removed]",
      "text/plain": [
       "<Figure size 640x480 with 1 Axes>"
      ]
     },
     "metadata": {},
     "output_type": "display_data"
    }
   ],
   "source": [
    "#plotting least angle regression model\n",
    "x_ax = range(len(y_test))\n",
    "plt.scatter(x_ax, y_test, s=5, color=\"blue\", label=\"original\")\n",
    "plt.plot(x_ax, ypred, lw=0.8, color=\"red\", label=\"predicted\")\n",
    "plt.legend()\n",
    "plt.show()"
   ]
  },
  {
   "cell_type": "markdown",
   "id": "de84898f",
   "metadata": {},
   "source": [
    "really bad results for least angle regression model, will most likely throw this out but tuning first just to make sure."
   ]
  },
  {
   "cell_type": "code",
   "execution_count": 54,
   "id": "e5ca8ce5",
   "metadata": {},
   "outputs": [
    {
     "name": "stdout",
     "output_type": "stream",
     "text": [
      "{'copy_X': True, 'fit_intercept': True, 'normalize': False}\n"
     ]
    }
   ],
   "source": [
    "#determining best parameters for least angle regression\n",
    "param_grid_lr = {'fit_intercept':[True,False], 'normalize':[True,False], 'copy_X':[True, False]}\n",
    "\n",
    "print(grid_search(model = Lars(), grid = param_grid_lr))"
   ]
  },
  {
   "cell_type": "code",
   "execution_count": 55,
   "id": "9c280a0a",
   "metadata": {},
   "outputs": [
    {
     "data": {
      "text/plain": [
       "Lars(normalize=False)"
      ]
     },
     "execution_count": 55,
     "metadata": {},
     "output_type": "execute_result"
    }
   ],
   "source": [
    "#building tuned least angle regression model (all best parameters are standard other than normalize)\n",
    "lars_tuned = Lars(normalize = False)\n",
    "lars_tuned.fit(X_train, y_train)"
   ]
  },
  {
   "cell_type": "code",
   "execution_count": 56,
   "id": "da555746",
   "metadata": {},
   "outputs": [
    {
     "name": "stdout",
     "output_type": "stream",
     "text": [
      "Model score (R-squared): 0.95\n"
     ]
    }
   ],
   "source": [
    "#testing tuned least angle regression model R2 score on training data\n",
    "score = lars_tuned.score(X_train,y_train)\n",
    "print(\"Model score (R-squared): %.2f\" % score)"
   ]
  },
  {
   "cell_type": "code",
   "execution_count": 57,
   "id": "9192f787",
   "metadata": {},
   "outputs": [
    {
     "name": "stdout",
     "output_type": "stream",
     "text": [
      "MSE: 20504.16\n"
     ]
    }
   ],
   "source": [
    "#testing tuned least angle regression model mean squared error score\n",
    "ypred = lars_tuned.predict(X_test)\n",
    "mse = mean_squared_error(y_test, ypred)\n",
    "print(\"MSE: %.2f\" % mse)"
   ]
  },
  {
   "cell_type": "code",
   "execution_count": 58,
   "id": "7b97e56f",
   "metadata": {},
   "outputs": [
    {
     "name": "stdout",
     "output_type": "stream",
     "text": [
      "Coefficient of determination: 0.85\n"
     ]
    }
   ],
   "source": [
    "#testing tuned least angle regression model coefficient of determination\n",
    "cod = r2_score(y_test, ypred)\n",
    "print(\"Coefficient of determination: %.2f\" % cod)"
   ]
  },
  {
   "cell_type": "code",
   "execution_count": 59,
   "id": "9618f92c",
   "metadata": {},
   "outputs": [
    {
     "name": "stdout",
     "output_type": "stream",
     "text": [
      "RMSE: 143.19\n"
     ]
    }
   ],
   "source": [
    "#testing tuned least angle regression model root-mean-squared score \n",
    "print(\"RMSE: %.2f\" % np.sqrt(mse))"
   ]
  },
  {
   "cell_type": "code",
   "execution_count": 60,
   "id": "6d5c12c8",
   "metadata": {},
   "outputs": [
    {
     "data": {
      "image/png": "[encoded data removed]",
      "text/plain": [
       "<Figure size 640x480 with 1 Axes>"
      ]
     },
     "metadata": {},
     "output_type": "display_data"
    }
   ],
   "source": [
    "#plotting least angle regression model\n",
    "x_ax = range(len(y_test))\n",
    "plt.scatter(x_ax, y_test, s=5, color=\"blue\", label=\"original\")\n",
    "plt.plot(x_ax, ypred, lw=0.8, color=\"red\", label=\"predicted\")\n",
    "plt.legend()\n",
    "plt.show()"
   ]
  },
  {
   "cell_type": "markdown",
   "id": "a9b440de",
   "metadata": {},
   "source": [
    "got much better after turning off normalization, will use in voting"
   ]
  },
  {
   "cell_type": "markdown",
   "id": "63b6e2f3",
   "metadata": {},
   "source": [
    "Lasso Lars Regression Model"
   ]
  },
  {
   "cell_type": "code",
   "execution_count": 61,
   "id": "7d9113e4",
   "metadata": {},
   "outputs": [
    {
     "data": {
      "text/plain": [
       "LassoLars(alpha=1)"
      ]
     },
     "execution_count": 61,
     "metadata": {},
     "output_type": "execute_result"
    }
   ],
   "source": [
    "#building lasso least angle regression model\n",
    "lassolars = LassoLars(alpha =1)\n",
    "lassolars.fit(X_train, y_train)"
   ]
  },
  {
   "cell_type": "code",
   "execution_count": 62,
   "id": "1a243cee",
   "metadata": {},
   "outputs": [
    {
     "name": "stdout",
     "output_type": "stream",
     "text": [
      "Model score (R-squared): 0.94\n"
     ]
    }
   ],
   "source": [
    "#testing lasso least angle regression model R2 score on training data\n",
    "score = lassolars.score(X_train,y_train)\n",
    "print(\"Model score (R-squared): %.2f\" % score)"
   ]
  },
  {
   "cell_type": "code",
   "execution_count": 63,
   "id": "f1d1d201",
   "metadata": {},
   "outputs": [
    {
     "name": "stdout",
     "output_type": "stream",
     "text": [
      "MSE: 24688.64\n"
     ]
    }
   ],
   "source": [
    "#testing lasso least angle regression model mean squared error score\n",
    "ypred = lassolars.predict(X_test)\n",
    "mse = mean_squared_error(y_test, ypred)\n",
    "print(\"MSE: %.2f\" % mse)"
   ]
  },
  {
   "cell_type": "code",
   "execution_count": 64,
   "id": "d1f20cbc",
   "metadata": {},
   "outputs": [
    {
     "name": "stdout",
     "output_type": "stream",
     "text": [
      "Coefficient of determination: 0.82\n"
     ]
    }
   ],
   "source": [
    "#testing lasso least angle regression model coefficient of determination\n",
    "cod = r2_score(y_test, ypred)\n",
    "print(\"Coefficient of determination: %.2f\" % cod)"
   ]
  },
  {
   "cell_type": "code",
   "execution_count": 65,
   "id": "435dd61d",
   "metadata": {},
   "outputs": [
    {
     "name": "stdout",
     "output_type": "stream",
     "text": [
      "RMSE: 157.13\n"
     ]
    }
   ],
   "source": [
    "#testing lasso least angle regression model root-mean-squared error\n",
    "print(\"RMSE: %.2f\" % np.sqrt(mse))"
   ]
  },
  {
   "cell_type": "code",
   "execution_count": 66,
   "id": "74861d43",
   "metadata": {
    "scrolled": false
   },
   "outputs": [
    {
     "data": {
      "image/png": "[encoded data removed]",
      "text/plain": [
       "<Figure size 640x480 with 1 Axes>"
      ]
     },
     "metadata": {},
     "output_type": "display_data"
    }
   ],
   "source": [
    "#plotting lasso least angle regression model\n",
    "x_ax = range(len(y_test))\n",
    "plt.scatter(x_ax, y_test, s=5, color=\"blue\", label=\"original\")\n",
    "plt.plot(x_ax, ypred, lw=0.8, color=\"red\", label=\"predicted\")\n",
    "plt.legend()\n",
    "plt.show()"
   ]
  },
  {
   "cell_type": "code",
   "execution_count": 67,
   "id": "ecfb2645",
   "metadata": {},
   "outputs": [
    {
     "name": "stdout",
     "output_type": "stream",
     "text": [
      "{'copy_X': True, 'fit_intercept': True, 'fit_path': True, 'normalize': True}\n"
     ]
    }
   ],
   "source": [
    "#determining best parameters for lasso least angle regression\n",
    "param_grid_lr = {'fit_intercept':[True,False], 'normalize':[True,False], 'copy_X':[True, False], 'fit_path':[True,False]}\n",
    "\n",
    "print(grid_search(model = LassoLars(), grid = param_grid_lr))"
   ]
  },
  {
   "cell_type": "markdown",
   "id": "fb9f18fa",
   "metadata": {},
   "source": [
    "no change from default parameters"
   ]
  },
  {
   "cell_type": "code",
   "execution_count": 68,
   "id": "2ea0630e",
   "metadata": {},
   "outputs": [
    {
     "name": "stdout",
     "output_type": "stream",
     "text": [
      "{'alpha': 0.3}\n"
     ]
    }
   ],
   "source": [
    "#determining best alpha for lasso least angle regression\n",
    "alphas = [0.1,0.3, 0.5, 0.8, 1]\n",
    "param_grid_lr = {'alpha':alphas}\n",
    "\n",
    "print(grid_search(model = LassoLars(), grid = param_grid_lr))"
   ]
  },
  {
   "cell_type": "code",
   "execution_count": 69,
   "id": "c96bc6d5",
   "metadata": {},
   "outputs": [
    {
     "data": {
      "text/plain": [
       "LassoLars(alpha=0.3)"
      ]
     },
     "execution_count": 69,
     "metadata": {},
     "output_type": "execute_result"
    }
   ],
   "source": [
    "#building tuned lasso least angle regression model\n",
    "lassolars_tuned = LassoLars(alpha =.3, copy_X = True, fit_intercept = True, fit_path = True, normalize = True )\n",
    "\n",
    "lassolars_tuned.fit(X_train, y_train)"
   ]
  },
  {
   "cell_type": "code",
   "execution_count": 70,
   "id": "9fda380c",
   "metadata": {},
   "outputs": [
    {
     "name": "stdout",
     "output_type": "stream",
     "text": [
      "Model score (R-squared): 0.95\n"
     ]
    }
   ],
   "source": [
    "#testing tuned lasso least angle regression model R2 score on training data\n",
    "score = lassolars_tuned.score(X_train,y_train)\n",
    "print(\"Model score (R-squared): %.2f\" % score)"
   ]
  },
  {
   "cell_type": "code",
   "execution_count": 71,
   "id": "30f3a8ba",
   "metadata": {},
   "outputs": [
    {
     "name": "stdout",
     "output_type": "stream",
     "text": [
      "MSE: 22310.08\n"
     ]
    }
   ],
   "source": [
    "#testing tuned lasso least angle regression model mean squared error score\n",
    "ypred = lassolars_tuned.predict(X_test)\n",
    "mse = mean_squared_error(y_test, ypred)\n",
    "print(\"MSE: %.2f\" % mse)"
   ]
  },
  {
   "cell_type": "code",
   "execution_count": 72,
   "id": "1bcf7045",
   "metadata": {},
   "outputs": [
    {
     "name": "stdout",
     "output_type": "stream",
     "text": [
      "Coefficient of determination: 0.83\n"
     ]
    }
   ],
   "source": [
    "#testing tuned lasso least angle regression model coefficient of determination\n",
    "cod = r2_score(y_test, ypred)\n",
    "print(\"Coefficient of determination: %.2f\" % cod)"
   ]
  },
  {
   "cell_type": "code",
   "execution_count": 73,
   "id": "fdfdffb4",
   "metadata": {},
   "outputs": [
    {
     "name": "stdout",
     "output_type": "stream",
     "text": [
      "RMSE: 149.37\n"
     ]
    }
   ],
   "source": [
    "#testing tuned lasso least angle regression model root-mean-squared error\n",
    "print(\"RMSE: %.2f\" % np.sqrt(mse))"
   ]
  },
  {
   "cell_type": "code",
   "execution_count": 74,
   "id": "f8e94084",
   "metadata": {},
   "outputs": [
    {
     "data": {
      "image/png": "[encoded data removed]",
      "text/plain": [
       "<Figure size 640x480 with 1 Axes>"
      ]
     },
     "metadata": {},
     "output_type": "display_data"
    }
   ],
   "source": [
    "#plotting tuned lasso least angle regression model\n",
    "x_ax = range(len(y_test))\n",
    "plt.scatter(x_ax, y_test, s=5, color=\"blue\", label=\"original\")\n",
    "plt.plot(x_ax, ypred, lw=0.8, color=\"red\", label=\"predicted\")\n",
    "plt.legend()\n",
    "plt.show()"
   ]
  },
  {
   "cell_type": "markdown",
   "id": "55fda59b",
   "metadata": {},
   "source": [
    "changing alpha had slight impact"
   ]
  },
  {
   "cell_type": "markdown",
   "id": "0dd0b128",
   "metadata": {},
   "source": [
    "Bayseian Ridge Model"
   ]
  },
  {
   "cell_type": "code",
   "execution_count": 75,
   "id": "b2708833",
   "metadata": {},
   "outputs": [
    {
     "data": {
      "text/plain": [
       "BayesianRidge()"
      ]
     },
     "execution_count": 75,
     "metadata": {},
     "output_type": "execute_result"
    }
   ],
   "source": [
    "#building bayesian ridge model with default parameters\n",
    "bay_ridge = BayesianRidge(alpha_1=1e-06, alpha_2=1e-06, compute_score=False, copy_X=True,\n",
    "       fit_intercept=True, lambda_1=1e-06, lambda_2=1e-06, n_iter=300,\n",
    "       normalize=False, tol=0.001, verbose=False)\n",
    "bay_ridge.fit(X_train, y_train)"
   ]
  },
  {
   "cell_type": "code",
   "execution_count": 76,
   "id": "ccc3181c",
   "metadata": {},
   "outputs": [
    {
     "name": "stdout",
     "output_type": "stream",
     "text": [
      "Model score (R-squared): 0.94\n"
     ]
    }
   ],
   "source": [
    "#testing bayesian ridge model R2 score on training data\n",
    "score = bay_ridge.score(X_train,y_train)\n",
    "print(\"Model score (R-squared): %.2f\" % score)"
   ]
  },
  {
   "cell_type": "code",
   "execution_count": 77,
   "id": "96390656",
   "metadata": {},
   "outputs": [
    {
     "name": "stdout",
     "output_type": "stream",
     "text": [
      "MSE: 24075.88\n"
     ]
    }
   ],
   "source": [
    "#testing bayesian ridge model mean squared error\n",
    "ypred = bay_ridge.predict(X_test)\n",
    "mse = mean_squared_error(y_test, ypred)\n",
    "print(\"MSE: %.2f\" % mse)"
   ]
  },
  {
   "cell_type": "code",
   "execution_count": 78,
   "id": "f156fe4c",
   "metadata": {},
   "outputs": [
    {
     "name": "stdout",
     "output_type": "stream",
     "text": [
      "Coefficient of determination: 0.82\n"
     ]
    }
   ],
   "source": [
    "#testing bayesian ridge model coefficient of determination\n",
    "cod = r2_score(y_test, ypred)\n",
    "print(\"Coefficient of determination: %.2f\" % cod)"
   ]
  },
  {
   "cell_type": "code",
   "execution_count": 79,
   "id": "ff9552b1",
   "metadata": {},
   "outputs": [
    {
     "name": "stdout",
     "output_type": "stream",
     "text": [
      "RMSE: 155.16\n"
     ]
    }
   ],
   "source": [
    "#testing bayesian ridge model \n",
    "print(\"RMSE: %.2f\" % np.sqrt(mse))"
   ]
  },
  {
   "cell_type": "code",
   "execution_count": 80,
   "id": "5bb02934",
   "metadata": {},
   "outputs": [
    {
     "data": {
      "image/png": "[encoded data removed]",
      "text/plain": [
       "<Figure size 640x480 with 1 Axes>"
      ]
     },
     "metadata": {},
     "output_type": "display_data"
    }
   ],
   "source": [
    "#plotting bayesian ridge model\n",
    "x_ax = range(len(y_test))\n",
    "plt.scatter(x_ax, y_test, s=5, color=\"blue\", label=\"original\")\n",
    "plt.plot(x_ax, ypred, lw=0.8, color=\"red\", label=\"predicted\")\n",
    "plt.legend()\n",
    "plt.show() "
   ]
  },
  {
   "cell_type": "code",
   "execution_count": 81,
   "id": "da7ccdef",
   "metadata": {},
   "outputs": [
    {
     "name": "stdout",
     "output_type": "stream",
     "text": [
      "{'copy_X': True, 'fit_intercept': True, 'normalize': False}\n"
     ]
    }
   ],
   "source": [
    "#determining best parameters for bayesian ridge regression\n",
    "param_grid_lr = {'fit_intercept':[True,False], 'normalize':[True,False], 'copy_X':[True, False]}\n",
    "\n",
    "print(grid_search(model = BayesianRidge(), grid = param_grid_lr))"
   ]
  },
  {
   "cell_type": "code",
   "execution_count": 82,
   "id": "0205e5fc",
   "metadata": {},
   "outputs": [
    {
     "name": "stdout",
     "output_type": "stream",
     "text": [
      "{'alpha_1': 1, 'alpha_2': 1.9, 'lambda_1': 0.1, 'lambda_2': 1e-09}\n"
     ]
    }
   ],
   "source": [
    "#determining best alpha for bayesian ridge regression\n",
    "alphas = [1, 1.1, 1.2, 1.3, 1.4, 1.5, 1.9]\n",
    "lambdas = [1e-1, 1e-2, 1e-3, 1e-4, 1e-5, 1e-6, 1e-9]\n",
    "param_grid_lr = {'alpha_1':alphas, 'alpha_2':alphas, 'lambda_1':lambdas, 'lambda_2':lambdas}\n",
    "\n",
    "print(grid_search(model = BayesianRidge(), grid = param_grid_lr))"
   ]
  },
  {
   "cell_type": "code",
   "execution_count": 83,
   "id": "a3191cbc",
   "metadata": {},
   "outputs": [
    {
     "data": {
      "text/plain": [
       "BayesianRidge(alpha_1=1, alpha_2=1.9, lambda_1=0.1, lambda_2=1e-09)"
      ]
     },
     "execution_count": 83,
     "metadata": {},
     "output_type": "execute_result"
    }
   ],
   "source": [
    "#building tuned bayesian ridge model with new parameters\n",
    "bay_ridge_tuned = BayesianRidge(alpha_1=1, alpha_2=1.9, compute_score=False, copy_X=True,\n",
    "       fit_intercept=True, lambda_1=.1, lambda_2=1e-09, n_iter=300,\n",
    "       normalize=False, tol=0.001, verbose=False)\n",
    "bay_ridge_tuned.fit(X_train, y_train)"
   ]
  },
  {
   "cell_type": "code",
   "execution_count": 84,
   "id": "195f66c7",
   "metadata": {},
   "outputs": [
    {
     "name": "stdout",
     "output_type": "stream",
     "text": [
      "Model score (R-squared): 0.94\n"
     ]
    }
   ],
   "source": [
    "#testing tuned bayesian ridge model R2 score on training data\n",
    "score = bay_ridge_tuned.score(X_train,y_train)\n",
    "print(\"Model score (R-squared): %.2f\" % score)"
   ]
  },
  {
   "cell_type": "code",
   "execution_count": 85,
   "id": "b5a55279",
   "metadata": {},
   "outputs": [
    {
     "name": "stdout",
     "output_type": "stream",
     "text": [
      "MSE: 24096.82\n"
     ]
    }
   ],
   "source": [
    "#testing tuned bayesian ridge model mean squared error\n",
    "ypred = bay_ridge_tuned.predict(X_test)\n",
    "mse = mean_squared_error(y_test, ypred)\n",
    "print(\"MSE: %.2f\" % mse)"
   ]
  },
  {
   "cell_type": "code",
   "execution_count": 86,
   "id": "cec360bb",
   "metadata": {},
   "outputs": [
    {
     "name": "stdout",
     "output_type": "stream",
     "text": [
      "Coefficient of determination: 0.82\n"
     ]
    }
   ],
   "source": [
    "#testing tuned bayesian ridge model coefficient of determination\n",
    "cod = r2_score(y_test, ypred)\n",
    "print(\"Coefficient of determination: %.2f\" % cod)"
   ]
  },
  {
   "cell_type": "code",
   "execution_count": 87,
   "id": "c4b4a35e",
   "metadata": {},
   "outputs": [
    {
     "name": "stdout",
     "output_type": "stream",
     "text": [
      "RMSE: 155.23\n"
     ]
    }
   ],
   "source": [
    "#testing tuned bayesian ridge model \n",
    "print(\"RMSE: %.2f\" % np.sqrt(mse))"
   ]
  },
  {
   "cell_type": "code",
   "execution_count": 88,
   "id": "6847c4cb",
   "metadata": {},
   "outputs": [
    {
     "data": {
      "image/png": "[encoded data removed]",
      "text/plain": [
       "<Figure size 640x480 with 1 Axes>"
      ]
     },
     "metadata": {},
     "output_type": "display_data"
    }
   ],
   "source": [
    "#plotting tuned bayesian ridge model\n",
    "x_ax = range(len(y_test))\n",
    "plt.scatter(x_ax, y_test, s=5, color=\"blue\", label=\"original\")\n",
    "plt.plot(x_ax, ypred, lw=0.8, color=\"red\", label=\"predicted\")\n",
    "plt.legend()\n",
    "plt.show() "
   ]
  },
  {
   "cell_type": "markdown",
   "id": "0f28a52f",
   "metadata": {},
   "source": [
    "tuning actually resulted in a slightly worse model"
   ]
  },
  {
   "cell_type": "markdown",
   "id": "00135522",
   "metadata": {},
   "source": [
    "No weighting "
   ]
  },
  {
   "cell_type": "code",
   "execution_count": 89,
   "id": "5eeba9b4",
   "metadata": {
    "scrolled": true
   },
   "outputs": [],
   "source": [
    "#Logistic Regression\n",
    "\n",
    "clf1 = LinearRegression(fit_intercept = False, copy_X = True, normalize = True)\n",
    "\n",
    "#Lasso Regression\n",
    "\n",
    "clf2 = Lasso(alpha=1.0, copy_X=True, fit_intercept=True, normalize=True, positive=False) \n",
    "\n",
    "#Least Angle Regression\n",
    "\n",
    "clf3 = Lars(normalize = False)\n",
    "\n",
    "#Lasso Least Angle Regression\n",
    "\n",
    "clf4 = LassoLars(alpha = .3)\n",
    "\n",
    "#Bayesian Ridge\n",
    "\n",
    "clf5 = BayesianRidge()\n",
    "\n",
    "#Creating the voting classifier with soft voting because all models performed similarly\n",
    "\n",
    "clf_voting = VotingRegressor(estimators = [('est1', clf1), ('est2', clf2),\n",
    "                                           ('est3', clf3), ('est4', clf4),\n",
    "                                           ('est5', clf5)])\n",
    "\n",
    "#fit and predict\n",
    "clf_voting.fit(X_train, y_train)\n",
    "pred_voting = clf_voting.predict(X_test)"
   ]
  },
  {
   "cell_type": "code",
   "execution_count": 90,
   "id": "7c7940f3",
   "metadata": {},
   "outputs": [
    {
     "name": "stdout",
     "output_type": "stream",
     "text": [
      "Model score (R-squared): 0.84\n"
     ]
    }
   ],
   "source": [
    "#testing unweighted voting regressor model R2 score\n",
    "score = r2_score(y_test,pred_voting)\n",
    "print(\"Model score (R-squared): %.2f\" % score)"
   ]
  },
  {
   "cell_type": "code",
   "execution_count": 91,
   "id": "9a0c75f3",
   "metadata": {},
   "outputs": [
    {
     "name": "stdout",
     "output_type": "stream",
     "text": [
      "MSE: 21671.59\n"
     ]
    }
   ],
   "source": [
    "#testing unweighted voting regressor model mean squared error\n",
    "mse = mean_squared_error(y_test, pred_voting)\n",
    "print(\"MSE: %.2f\" % mse)"
   ]
  },
  {
   "cell_type": "code",
   "execution_count": 92,
   "id": "c22e3bff",
   "metadata": {},
   "outputs": [
    {
     "name": "stdout",
     "output_type": "stream",
     "text": [
      "Coefficient of determination: 0.84\n"
     ]
    }
   ],
   "source": [
    "#testing unweighted voting regressor model coefficient of determination\n",
    "cod = r2_score(y_test, pred_voting)\n",
    "print(\"Coefficient of determination: %.2f\" % cod)"
   ]
  },
  {
   "cell_type": "code",
   "execution_count": 93,
   "id": "6768f0ab",
   "metadata": {},
   "outputs": [
    {
     "name": "stdout",
     "output_type": "stream",
     "text": [
      "RMSE: 147.21\n"
     ]
    }
   ],
   "source": [
    "#testing unweighted voting regressor model  root mean squared error\n",
    "print(\"RMSE: %.2f\" % np.sqrt(mse))"
   ]
  },
  {
   "cell_type": "code",
   "execution_count": 94,
   "id": "9263fa6c",
   "metadata": {},
   "outputs": [
    {
     "data": {
      "image/png": "[encoded data removed]",
      "text/plain": [
       "<Figure size 640x480 with 1 Axes>"
      ]
     },
     "metadata": {},
     "output_type": "display_data"
    }
   ],
   "source": [
    "#plotting unweighted voting regressor model\n",
    "x_ax = range(len(y_test))\n",
    "plt.scatter(x_ax, y_test, s=5, color=\"blue\", label=\"original\")\n",
    "plt.plot(x_ax, ypred, lw=0.8, color=\"red\", label=\"predicted\")\n",
    "plt.legend()\n",
    "plt.show() "
   ]
  },
  {
   "cell_type": "markdown",
   "id": "9c42df1e",
   "metadata": {},
   "source": [
    "Ensembling models with weighted voting"
   ]
  },
  {
   "cell_type": "code",
   "execution_count": 95,
   "id": "c3fdcb7b",
   "metadata": {},
   "outputs": [],
   "source": [
    "# Creating empty lists that will storage the different weights\n",
    "\n",
    "weights1 = []\n",
    "weights2 = []\n",
    "weights3 = []\n",
    "weights4 = []\n",
    "weights5 = []\n",
    "scores = []\n",
    "\n",
    "# Creating a for loop to evaluate different combinations of weights\n",
    "\n",
    "for i in np.arange(0.05,1, 0.05):\n",
    "    for j in np.arange(0.05,1, 0.05):\n",
    "        for k in np.arange(0.05,1, 0.05):\n",
    "            for l in np.arange(0.05,1, 0.05):\n",
    "                for m in np.arange(0.05,1, 0.05):\n",
    "                    clf_voting = VotingRegressor(estimators = [('est1', clf1), ('est2', clf2), ('est3', clf3),\n",
    "                                            ('est4', clf4), ('est5', clf5)], weights = [i, j, k, l, m])\n",
    "                    clf_voting.fit(X_train, y_train)\n",
    "                    pred = clf_voting.predict(X_test)\n",
    "                    score = r2_score(y_test,pred)\n",
    "                    scores.append(score)\n",
    "                    weights1.append(i)\n",
    "                    weights2.append(j)\n",
    "                    weights3.append(k)\n",
    "                    weights4.append(l)\n",
    "                    weights5.append(m)"
   ]
  },
  {
   "cell_type": "code",
   "execution_count": 96,
   "id": "36641c01",
   "metadata": {},
   "outputs": [],
   "source": [
    "# Saving the results in a data frame\n",
    "\n",
    "test_scores = pd.DataFrame()\n",
    "test_scores['Weight1'] = weights1\n",
    "test_scores['Weight2'] = weights2\n",
    "test_scores['Weight3'] = weights3\n",
    "test_scores['Weight4'] = weights4\n",
    "test_scores['Weight5'] = weights5\n",
    "test_scores['Test Score'] = scores\n",
    "\n",
    "# Creating an additional column to save the sum of all the weights\n",
    "\n",
    "test_scores['sum_weights'] = test_scores['Weight1'].add(test_scores['Weight2']).add(test_scores['Weight3']).add(test_scores['Weight4']).add(test_scores['Weight5'])\n",
    "\n",
    "#We are only getting the rows that the sum of all weights were equal to one\n",
    "\n",
    "condition = test_scores['sum_weights'] == 1\n",
    "\n",
    "test_scores = test_scores.loc[condition]"
   ]
  },
  {
   "cell_type": "code",
   "execution_count": 97,
   "id": "a42b7a3d",
   "metadata": {},
   "outputs": [
    {
     "data": {
      "text/html": [
       "<div>\n",
       "<style scoped>\n",
       "    .dataframe tbody tr th:only-of-type {\n",
       "        vertical-align: middle;\n",
       "    }\n",
       "\n",
       "    .dataframe tbody tr th {\n",
       "        vertical-align: top;\n",
       "    }\n",
       "\n",
       "    .dataframe thead th {\n",
       "        text-align: right;\n",
       "    }\n",
       "</style>\n",
       "<table border=\"1\" class=\"dataframe\">\n",
       "  <thead>\n",
       "    <tr style=\"text-align: right;\">\n",
       "      <th></th>\n",
       "      <th>Weight1</th>\n",
       "      <th>Weight2</th>\n",
       "      <th>Weight3</th>\n",
       "      <th>Weight4</th>\n",
       "      <th>Weight5</th>\n",
       "      <th>Test Score</th>\n",
       "      <th>sum_weights</th>\n",
       "    </tr>\n",
       "  </thead>\n",
       "  <tbody>\n",
       "    <tr>\n",
       "      <th>5415</th>\n",
       "      <td>0.05</td>\n",
       "      <td>0.05</td>\n",
       "      <td>0.80</td>\n",
       "      <td>0.05</td>\n",
       "      <td>0.05</td>\n",
       "      <td>0.845977</td>\n",
       "      <td>1.0</td>\n",
       "    </tr>\n",
       "    <tr>\n",
       "      <th>655215</th>\n",
       "      <td>0.30</td>\n",
       "      <td>0.05</td>\n",
       "      <td>0.55</td>\n",
       "      <td>0.05</td>\n",
       "      <td>0.05</td>\n",
       "      <td>0.845826</td>\n",
       "      <td>1.0</td>\n",
       "    </tr>\n",
       "    <tr>\n",
       "      <th>785175</th>\n",
       "      <td>0.35</td>\n",
       "      <td>0.05</td>\n",
       "      <td>0.50</td>\n",
       "      <td>0.05</td>\n",
       "      <td>0.05</td>\n",
       "      <td>0.845781</td>\n",
       "      <td>1.0</td>\n",
       "    </tr>\n",
       "    <tr>\n",
       "      <th>915135</th>\n",
       "      <td>0.40</td>\n",
       "      <td>0.05</td>\n",
       "      <td>0.45</td>\n",
       "      <td>0.05</td>\n",
       "      <td>0.05</td>\n",
       "      <td>0.845731</td>\n",
       "      <td>1.0</td>\n",
       "    </tr>\n",
       "    <tr>\n",
       "      <th>1045095</th>\n",
       "      <td>0.45</td>\n",
       "      <td>0.05</td>\n",
       "      <td>0.40</td>\n",
       "      <td>0.05</td>\n",
       "      <td>0.05</td>\n",
       "      <td>0.845677</td>\n",
       "      <td>1.0</td>\n",
       "    </tr>\n",
       "    <tr>\n",
       "      <th>654855</th>\n",
       "      <td>0.30</td>\n",
       "      <td>0.05</td>\n",
       "      <td>0.50</td>\n",
       "      <td>0.05</td>\n",
       "      <td>0.10</td>\n",
       "      <td>0.845490</td>\n",
       "      <td>1.0</td>\n",
       "    </tr>\n",
       "    <tr>\n",
       "      <th>5073</th>\n",
       "      <td>0.05</td>\n",
       "      <td>0.05</td>\n",
       "      <td>0.75</td>\n",
       "      <td>0.10</td>\n",
       "      <td>0.05</td>\n",
       "      <td>0.845487</td>\n",
       "      <td>1.0</td>\n",
       "    </tr>\n",
       "    <tr>\n",
       "      <th>135033</th>\n",
       "      <td>0.10</td>\n",
       "      <td>0.05</td>\n",
       "      <td>0.70</td>\n",
       "      <td>0.10</td>\n",
       "      <td>0.05</td>\n",
       "      <td>0.845475</td>\n",
       "      <td>1.0</td>\n",
       "    </tr>\n",
       "    <tr>\n",
       "      <th>264993</th>\n",
       "      <td>0.15</td>\n",
       "      <td>0.05</td>\n",
       "      <td>0.65</td>\n",
       "      <td>0.10</td>\n",
       "      <td>0.05</td>\n",
       "      <td>0.845458</td>\n",
       "      <td>1.0</td>\n",
       "    </tr>\n",
       "    <tr>\n",
       "      <th>394953</th>\n",
       "      <td>0.20</td>\n",
       "      <td>0.05</td>\n",
       "      <td>0.60</td>\n",
       "      <td>0.10</td>\n",
       "      <td>0.05</td>\n",
       "      <td>0.845435</td>\n",
       "      <td>1.0</td>\n",
       "    </tr>\n",
       "    <tr>\n",
       "      <th>524913</th>\n",
       "      <td>0.25</td>\n",
       "      <td>0.05</td>\n",
       "      <td>0.55</td>\n",
       "      <td>0.10</td>\n",
       "      <td>0.05</td>\n",
       "      <td>0.845408</td>\n",
       "      <td>1.0</td>\n",
       "    </tr>\n",
       "    <tr>\n",
       "      <th>654873</th>\n",
       "      <td>0.30</td>\n",
       "      <td>0.05</td>\n",
       "      <td>0.50</td>\n",
       "      <td>0.10</td>\n",
       "      <td>0.05</td>\n",
       "      <td>0.845376</td>\n",
       "      <td>1.0</td>\n",
       "    </tr>\n",
       "    <tr>\n",
       "      <th>784833</th>\n",
       "      <td>0.35</td>\n",
       "      <td>0.05</td>\n",
       "      <td>0.45</td>\n",
       "      <td>0.10</td>\n",
       "      <td>0.05</td>\n",
       "      <td>0.845339</td>\n",
       "      <td>1.0</td>\n",
       "    </tr>\n",
       "    <tr>\n",
       "      <th>914793</th>\n",
       "      <td>0.40</td>\n",
       "      <td>0.05</td>\n",
       "      <td>0.40</td>\n",
       "      <td>0.10</td>\n",
       "      <td>0.05</td>\n",
       "      <td>0.845298</td>\n",
       "      <td>1.0</td>\n",
       "    </tr>\n",
       "    <tr>\n",
       "      <th>1044753</th>\n",
       "      <td>0.45</td>\n",
       "      <td>0.05</td>\n",
       "      <td>0.35</td>\n",
       "      <td>0.10</td>\n",
       "      <td>0.05</td>\n",
       "      <td>0.845251</td>\n",
       "      <td>1.0</td>\n",
       "    </tr>\n",
       "  </tbody>\n",
       "</table>\n",
       "</div>"
      ],
      "text/plain": [
       "         Weight1  Weight2  Weight3  Weight4  Weight5  Test Score  sum_weights\n",
       "5415        0.05     0.05     0.80     0.05     0.05    0.845977          1.0\n",
       "655215      0.30     0.05     0.55     0.05     0.05    0.845826          1.0\n",
       "785175      0.35     0.05     0.50     0.05     0.05    0.845781          1.0\n",
       "915135      0.40     0.05     0.45     0.05     0.05    0.845731          1.0\n",
       "1045095     0.45     0.05     0.40     0.05     0.05    0.845677          1.0\n",
       "654855      0.30     0.05     0.50     0.05     0.10    0.845490          1.0\n",
       "5073        0.05     0.05     0.75     0.10     0.05    0.845487          1.0\n",
       "135033      0.10     0.05     0.70     0.10     0.05    0.845475          1.0\n",
       "264993      0.15     0.05     0.65     0.10     0.05    0.845458          1.0\n",
       "394953      0.20     0.05     0.60     0.10     0.05    0.845435          1.0\n",
       "524913      0.25     0.05     0.55     0.10     0.05    0.845408          1.0\n",
       "654873      0.30     0.05     0.50     0.10     0.05    0.845376          1.0\n",
       "784833      0.35     0.05     0.45     0.10     0.05    0.845339          1.0\n",
       "914793      0.40     0.05     0.40     0.10     0.05    0.845298          1.0\n",
       "1044753     0.45     0.05     0.35     0.10     0.05    0.845251          1.0"
      ]
     },
     "execution_count": 97,
     "metadata": {},
     "output_type": "execute_result"
    }
   ],
   "source": [
    "# Sorting the values to see the different test scores depending on the weights\n",
    "test_scores.sort_values(by = 'Test Score', ascending = False).head(15)"
   ]
  },
  {
   "cell_type": "code",
   "execution_count": 116,
   "id": "0fe7eb43",
   "metadata": {},
   "outputs": [],
   "source": [
    "# Creating the Voting Classifier with the most equally weighted because all models performed similarly\n",
    "\n",
    "clf_voting = VotingRegressor(estimators = [('est1', clf1), ('est2', clf2), ('est3', clf3)\n",
    "                                           , ('est4', clf4),  ('est5', clf5)], weights = [0.05, 0.05, 0.80, .05, .05])\n",
    "\n",
    "#Fit and predict\n",
    "\n",
    "clf_voting.fit(X_train, y_train)\n",
    "pred_voting = clf_voting.predict(X_test)"
   ]
  },
  {
   "cell_type": "code",
   "execution_count": 117,
   "id": "c5d6ff51",
   "metadata": {},
   "outputs": [
    {
     "name": "stdout",
     "output_type": "stream",
     "text": [
      "Model score (R-squared): 0.85\n"
     ]
    }
   ],
   "source": [
    "#testing weighted voting regressor model R2 score\n",
    "score = r2_score(y_test,pred_voting)\n",
    "print(\"Model score (R-squared): %.2f\" % score)"
   ]
  },
  {
   "cell_type": "code",
   "execution_count": 118,
   "id": "48babc97",
   "metadata": {},
   "outputs": [
    {
     "name": "stdout",
     "output_type": "stream",
     "text": [
      "MSE: 20730.20\n"
     ]
    }
   ],
   "source": [
    "#testing weighted voting regressor model mean squared error\n",
    "mse = mean_squared_error(y_test, pred_voting)\n",
    "print(\"MSE: %.2f\" % mse)"
   ]
  },
  {
   "cell_type": "code",
   "execution_count": 119,
   "id": "e5768175",
   "metadata": {},
   "outputs": [
    {
     "name": "stdout",
     "output_type": "stream",
     "text": [
      "Coefficient of determination: 0.85\n"
     ]
    }
   ],
   "source": [
    "#testing weighted voting regressor model coefficient of determination\n",
    "cod = r2_score(y_test, pred_voting)\n",
    "print(\"Coefficient of determination: %.2f\" % cod)"
   ]
  },
  {
   "cell_type": "code",
   "execution_count": 120,
   "id": "be9cd9f1",
   "metadata": {},
   "outputs": [
    {
     "name": "stdout",
     "output_type": "stream",
     "text": [
      "RMSE: 143.98\n"
     ]
    }
   ],
   "source": [
    "#testing weighted voting regressor model  root mean squared error\n",
    "print(\"RMSE: %.2f\" % np.sqrt(mse))"
   ]
  },
  {
   "cell_type": "code",
   "execution_count": 110,
   "id": "1f8e90dd",
   "metadata": {},
   "outputs": [
    {
     "data": {
      "image/png": "[encoded data removed]",
      "text/plain": [
       "<Figure size 640x480 with 1 Axes>"
      ]
     },
     "metadata": {},
     "output_type": "display_data"
    }
   ],
   "source": [
    "#plotting weighted voting regressor model\n",
    "x_ax = range(len(y_test))\n",
    "plt.scatter(x_ax, y_test, s=5, color=\"blue\", label=\"original\")\n",
    "plt.plot(x_ax, ypred, lw=0.8, color=\"red\", label=\"predicted\")\n",
    "plt.legend()\n",
    "plt.show()"
   ]
  },
  {
   "cell_type": "markdown",
   "id": "0b5f0c2e",
   "metadata": {},
   "source": [
    "Turns out the third model that was built (Least angle regression) was superior than any other model. So much so that when ensembled, the other models ended up pulling down the final model. Our Lars model had a coefficiant of determination of .85 which was equal to the ensemble model's .85. The Lars model had a RMSE of 143.19 which was slightly better than the ensemble model's RMSE of 143.98. The Lars model had a MSE of 20504.16 which was slightly better than the ensemble model's MSE of 20730.20. Interestingly this was the worst model before tuning. "
   ]
  },
  {
   "cell_type": "code",
   "execution_count": null,
   "id": "30fa5b6b",
   "metadata": {},
   "outputs": [],
   "source": []
  },
  {
   "cell_type": "code",
   "execution_count": null,
   "id": "2c8e7c77",
   "metadata": {},
   "outputs": [],
   "source": []
  },
  {
   "cell_type": "code",
   "execution_count": null,
   "id": "f2c64e6f",
   "metadata": {},
   "outputs": [],
   "source": []
  }
 ],
 "metadata": {
  "kernelspec": {
   "display_name": "Python 3 (ipykernel)",
   "language": "python",
   "name": "python3"
  },
  "language_info": {
   "codemirror_mode": {
    "name": "ipython",
    "version": 3
   },
   "file_extension": ".py",
   "mimetype": "text/x-python",
   "name": "python",
   "nbconvert_exporter": "python",
   "pygments_lexer": "ipython3",
   "version": "3.9.13"
  }
 },
 "nbformat": 4,
 "nbformat_minor": 5
}
