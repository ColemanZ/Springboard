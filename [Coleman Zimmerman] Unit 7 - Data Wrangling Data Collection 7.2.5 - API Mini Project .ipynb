{
 "cells": [
  {
   "cell_type": "markdown",
   "id": "01b08af7",
   "metadata": {},
   "source": [
    "Began by registering free account with https://data.nasdaq.com/"
   ]
  },
  {
   "cell_type": "markdown",
   "id": "82e0aaa1",
   "metadata": {},
   "source": [
    "installing package to use dotenv"
   ]
  },
  {
   "cell_type": "code",
   "execution_count": 5,
   "id": "c1984610",
   "metadata": {},
   "outputs": [
    {
     "name": "stdout",
     "output_type": "stream",
     "text": [
      "Requirement already satisfied: python-dotenv in c:\\users\\colem\\anaconda3\\envs\\springboard\\lib\\site-packages (0.20.0)\n",
      "Note: you may need to restart the kernel to use updated packages.\n"
     ]
    }
   ],
   "source": [
    "pip install python-dotenv"
   ]
  },
  {
   "cell_type": "markdown",
   "id": "2c4e5c7c",
   "metadata": {},
   "source": [
    "after storing my nasdaq API key in a .env file\n",
    "loading in key and assigning it to API_KEY variable"
   ]
  },
  {
   "cell_type": "code",
   "execution_count": 4,
   "id": "a7f16cb7",
   "metadata": {},
   "outputs": [
    {
     "data": {
      "text/plain": [
       "True"
      ]
     },
     "execution_count": 4,
     "metadata": {},
     "output_type": "execute_result"
    }
   ],
   "source": [
    "import os\n",
    "from pathlib import Path\n",
    "from dotenv import load_dotenv\n",
    "\n",
    "# Get the base directory\n",
    "basepath = Path()\n",
    "basedir = str(basepath.cwd())\n",
    "# Load the environment variables\n",
    "envars = basepath.cwd() / 'NASDAQ_ENV_KEY.env'\n",
    "load_dotenv(envars)\n"
   ]
  },
  {
   "cell_type": "code",
   "execution_count": 51,
   "id": "c7118294",
   "metadata": {},
   "outputs": [],
   "source": [
    "import os\n",
    "from dotenv import load_dotenv\n",
    "\n",
    "\n",
    "\n",
    "API_KEY = os.getenv('NASDAQ_ENV_KEY')\n",
    "\n"
   ]
  },
  {
   "cell_type": "markdown",
   "id": "680ded14",
   "metadata": {},
   "source": [
    "installing requests package"
   ]
  },
  {
   "cell_type": "code",
   "execution_count": 7,
   "id": "f4dc6db5",
   "metadata": {},
   "outputs": [
    {
     "name": "stdout",
     "output_type": "stream",
     "text": [
      "Requirement already satisfied: requests in c:\\users\\colem\\anaconda3\\envs\\springboard\\lib\\site-packages (2.27.1)\n",
      "Requirement already satisfied: certifi>=2017.4.17 in c:\\users\\colem\\anaconda3\\envs\\springboard\\lib\\site-packages (from requests) (2021.10.8)\n",
      "Requirement already satisfied: idna<4,>=2.5 in c:\\users\\colem\\anaconda3\\envs\\springboard\\lib\\site-packages (from requests) (3.3)\n",
      "Requirement already satisfied: urllib3<1.27,>=1.21.1 in c:\\users\\colem\\anaconda3\\envs\\springboard\\lib\\site-packages (from requests) (1.26.9)\n",
      "Requirement already satisfied: charset-normalizer~=2.0.0 in c:\\users\\colem\\anaconda3\\envs\\springboard\\lib\\site-packages (from requests) (2.0.12)\n",
      "Note: you may need to restart the kernel to use updated packages.\n"
     ]
    }
   ],
   "source": [
    "pip install requests"
   ]
  },
  {
   "cell_type": "code",
   "execution_count": 9,
   "id": "5f477597",
   "metadata": {},
   "outputs": [],
   "source": [
    "import requests"
   ]
  },
  {
   "cell_type": "code",
   "execution_count": 10,
   "id": "764629c0",
   "metadata": {},
   "outputs": [],
   "source": [
    "url = \"https://www.quandl.com/api/v3/datasets/WIKI/FB/data.json?api_key=&start_date=2016-03-02&end_date=2016-03-03\"\n",
    "res = requests.get(url)"
   ]
  },
  {
   "cell_type": "code",
   "execution_count": 11,
   "id": "332486ed",
   "metadata": {},
   "outputs": [
    {
     "name": "stdout",
     "output_type": "stream",
     "text": [
      "{'dataset_data': {'limit': None, 'transform': None, 'column_index': None, 'column_names': ['Date', 'Open', 'High', 'Low', 'Close', 'Volume', 'Ex-Dividend', 'Split Ratio', 'Adj. Open', 'Adj. High', 'Adj. Low', 'Adj. Close', 'Adj. Volume'], 'start_date': '2016-03-02', 'end_date': '2016-03-03', 'frequency': 'daily', 'data': [['2016-03-03', 110.25, 110.3, 108.54, 109.58, 21353092.0, 0.0, 1.0, 110.25, 110.3, 108.54, 109.58, 21353092.0], ['2016-03-02', 109.68, 110.55, 108.77, 109.95, 25670170.0, 0.0, 1.0, 109.68, 110.55, 108.77, 109.95, 25670170.0]], 'collapse': None, 'order': None}}\n"
     ]
    }
   ],
   "source": [
    "json = res.json()\n",
    "print(json)"
   ]
  },
  {
   "cell_type": "markdown",
   "id": "d5d189e7",
   "metadata": {},
   "source": [
    "These are your tasks for this mini project:\n",
    "\n",
    "1. Collect data from the Franfurt Stock Exchange, for the ticker AFX_X, for the whole year 2017 (keep in mind that the date format is YYYY-MM-DD).\n",
    "2. Convert the returned JSON object into a Python dictionary.\n",
    "3. Calculate what the highest and lowest opening prices were for the stock in this period.\n",
    "4. What was the largest change in any one day (based on High and Low price)?\n",
    "5. What was the largest change between any two days (based on Closing Price)?\n",
    "6. What was the average daily trading volume during this year?\n",
    "7. (Optional) What was the median trading volume during this year. (Note: you may need to implement your own function for calculating the median.)"
   ]
  },
  {
   "cell_type": "markdown",
   "id": "7f7fc832",
   "metadata": {},
   "source": [
    "1. Collect data from the Franfurt Stock Exchange, for the ticker AFX_X, for the whole year 2017 (keep in mind that the date format is YYYY-MM-DD)."
   ]
  },
  {
   "cell_type": "code",
   "execution_count": 12,
   "id": "d7c69c93",
   "metadata": {},
   "outputs": [],
   "source": [
    "FSE_URL_2017 = \"https://www.quandl.com/api/v3/datasets/fse/afx_x/data.json?api_key=&start_date=2017-01-01&end_date=2017-12-31\"\n",
    "FSE_res_2017 = requests.get(FSE_URL_2017)\n",
    "json = FSE_res_2017.json()"
   ]
  },
  {
   "cell_type": "markdown",
   "id": "9f3be619",
   "metadata": {},
   "source": [
    "2. Convert the returned JSON object into a Python dictionary."
   ]
  },
  {
   "cell_type": "code",
   "execution_count": 13,
   "id": "c47370c5",
   "metadata": {},
   "outputs": [],
   "source": [
    "fse_dict_2017 = dict(json)"
   ]
  },
  {
   "cell_type": "markdown",
   "id": "322c6e97",
   "metadata": {},
   "source": [
    "3. Calculate what the highest and lowest opening prices were for the stock in this period."
   ]
  },
  {
   "cell_type": "markdown",
   "id": "1235c124",
   "metadata": {},
   "source": [
    "creating a dict of pertinant info"
   ]
  },
  {
   "cell_type": "code",
   "execution_count": 17,
   "id": "fdd0d092",
   "metadata": {},
   "outputs": [],
   "source": [
    "price_dict_2017 = fse_dict_2017['dataset_data']['data']"
   ]
  },
  {
   "cell_type": "markdown",
   "id": "897a359d",
   "metadata": {},
   "source": [
    "creating variables lowest_open_price and highest_open_price\n",
    "running loop, first checking if value is none as there are some null values and ignoring those\n",
    "    then replacing lowest and highest price variables with prices that are lower or higher"
   ]
  },
  {
   "cell_type": "code",
   "execution_count": 20,
   "id": "396e540d",
   "metadata": {},
   "outputs": [],
   "source": [
    "lowest_open_price = price_dict_2017[0][1]\n",
    "highest_open_price = 0\n",
    "\n",
    "for i in price_dict_2017:\n",
    "    if i[1] != None:\n",
    "        if i[1] > highest_open_price:\n",
    "            highest_open_price = i[1]\n",
    "        elif i[1] < lowest_open_price:\n",
    "            lowest_open_price = i[1]"
   ]
  },
  {
   "cell_type": "code",
   "execution_count": 24,
   "id": "2080b3f7",
   "metadata": {},
   "outputs": [
    {
     "name": "stdout",
     "output_type": "stream",
     "text": [
      "2017's lowest open price for FSE is 34.0\n",
      "2017's highest open price for FSE is 53.11\n"
     ]
    }
   ],
   "source": [
    "print(\"2017's lowest open price for FSE is\", lowest_open_price)\n",
    "print(\"2017's highest open price for FSE is\", highest_open_price)"
   ]
  },
  {
   "cell_type": "markdown",
   "id": "93fad0ba",
   "metadata": {},
   "source": [
    "4. What was the largest change in any one day (based on High and Low price)?"
   ]
  },
  {
   "cell_type": "markdown",
   "id": "263089a0",
   "metadata": {},
   "source": [
    "creating variable largest_change_price\n",
    "creating loop, creates variable high_minus_low which changes each iteration to the highest price minus the lowest price.\n",
    "    Replaces largest_change_price if high_minus_low is larger"
   ]
  },
  {
   "cell_type": "code",
   "execution_count": 27,
   "id": "3acdddaa",
   "metadata": {},
   "outputs": [],
   "source": [
    "largest_change_price = 0\n",
    "\n",
    "for i in price_dict_2017:\n",
    "    high_minus_low = i[2]-i[3]\n",
    "    if high_minus_low > largest_change_price:\n",
    "        largest_change_price = high_minus_low"
   ]
  },
  {
   "cell_type": "code",
   "execution_count": 28,
   "id": "2d83a81e",
   "metadata": {},
   "outputs": [
    {
     "name": "stdout",
     "output_type": "stream",
     "text": [
      "2017's largest change price for FSE is 2.8100000000000023\n"
     ]
    }
   ],
   "source": [
    "print(\"2017's largest change price for FSE is\", largest_change_price)"
   ]
  },
  {
   "cell_type": "markdown",
   "id": "3b77cd36",
   "metadata": {},
   "source": [
    "5. What was the largest change between any two days (based on Closing Price)?"
   ]
  },
  {
   "cell_type": "markdown",
   "id": "fb58b1f0",
   "metadata": {},
   "source": [
    "creating variable yesterday_close_price as the first day's close price\n",
    "creating variable two_day_chance and giving it the value of 0 to start\n",
    "creating loop that creates variable today_close_price and sets it equal to the current iterations close price\n",
    "    creates variable price-difference that takes the absolute value of yesterday and todays close price\n",
    "    if price_difference is larger than two_day_change_peak it is replaced\n",
    "    sets yesterdays close price equal to todays before next iteration"
   ]
  },
  {
   "cell_type": "code",
   "execution_count": 38,
   "id": "3ced58ce",
   "metadata": {},
   "outputs": [],
   "source": [
    "yesterday_close_price = price_dict_2017[0][4]\n",
    "two_day_change_peak = 0\n",
    "\n",
    "for i in price_dict_2017:\n",
    "    today_close_price = i[4]\n",
    "    price_difference = abs (yesterday_close_price - today_close_price)\n",
    "    if price_difference > two_day_change_peak:\n",
    "        two_day_change_peak = price_difference\n",
    "    yesterday_close_price = today_close_price"
   ]
  },
  {
   "cell_type": "code",
   "execution_count": 37,
   "id": "5684621e",
   "metadata": {},
   "outputs": [
    {
     "name": "stdout",
     "output_type": "stream",
     "text": [
      "The largest change between any two days for FSE is 2.559999999999995\n"
     ]
    }
   ],
   "source": [
    "print(\"The largest change between any two days for FSE is\", two_day_change_peak)"
   ]
  },
  {
   "cell_type": "markdown",
   "id": "9d4ae5bf",
   "metadata": {},
   "source": [
    "6. What was the average daily trading volume during this year?"
   ]
  },
  {
   "cell_type": "markdown",
   "id": "e07758e1",
   "metadata": {},
   "source": [
    "creating variable total_trading_volume and setting equal to zero\n",
    "creating loop that adds the trading volume each iteration to total_trading_volume\n",
    "creating variable avg_trading_volume and setting equal to total_trading_volume divided by total days"
   ]
  },
  {
   "cell_type": "code",
   "execution_count": 43,
   "id": "42765148",
   "metadata": {},
   "outputs": [],
   "source": [
    "total_trading_volume = 0\n",
    "for i in price_dict_2017:\n",
    "    total_trading_volume += i[6]\n",
    "avg_trading_volume = total_trading_volume / len(price_dict_2017)"
   ]
  },
  {
   "cell_type": "code",
   "execution_count": 42,
   "id": "f5ec32b1",
   "metadata": {},
   "outputs": [
    {
     "name": "stdout",
     "output_type": "stream",
     "text": [
      "The average daily trading volume for FSE during 2017 is 89124.33725490196\n"
     ]
    }
   ],
   "source": [
    "print (\"The average daily trading volume for FSE during 2017 is\", avg_trading_volume)"
   ]
  },
  {
   "cell_type": "markdown",
   "id": "72360eeb",
   "metadata": {},
   "source": [
    "7. (Optional) What was the median trading volume during this year. (Note: you may need to implement your own function for calculating the median.)"
   ]
  },
  {
   "cell_type": "markdown",
   "id": "ed7bd9d7",
   "metadata": {},
   "source": [
    "defining function to find median (takes a list)\n",
    "creating variable sorted_x set to sorted list (ascending)\n",
    "creating variable n set to length of list\n",
    "checking if length of list is even or odd\n",
    "if even creating variable median_1 and sets equal to list's middle value \n",
    "    creates variable median_2 and sets equal to one below lists middle value\n",
    "    returns average of two median values\n",
    "if not even returns list's middle value"
   ]
  },
  {
   "cell_type": "code",
   "execution_count": 48,
   "id": "eded1689",
   "metadata": {},
   "outputs": [],
   "source": [
    "def median(x):\n",
    "    sorted_x = sorted(x)\n",
    "    n = len(x)\n",
    "    if n % 2 == 0:\n",
    "        median_1 = sorted_x[n//2]\n",
    "        median_2 = sorted_x[n//2-1]\n",
    "        return (median_1 + median_2)/2\n",
    "    else:\n",
    "        return sorted_x[n//2]"
   ]
  },
  {
   "cell_type": "markdown",
   "id": "c5a4ad69",
   "metadata": {},
   "source": [
    "defining variable median_volume_list and setting equal to empty list\n",
    "creating loop that each iteration adds the volume to median_volume_list\n",
    "creating variable median_volume and setting equal to median of median_volume_list"
   ]
  },
  {
   "cell_type": "code",
   "execution_count": 49,
   "id": "fca069c5",
   "metadata": {},
   "outputs": [],
   "source": [
    "median_volume_list =[]\n",
    "for i in price_dict_2017:\n",
    "    median_volume_list.append(i[6])\n",
    "median_volume = median(median_volume_list)"
   ]
  },
  {
   "cell_type": "code",
   "execution_count": 50,
   "id": "4d03e52b",
   "metadata": {},
   "outputs": [
    {
     "name": "stdout",
     "output_type": "stream",
     "text": [
      "The median trading volume for FSE during 2017 is 76286.0\n"
     ]
    }
   ],
   "source": [
    "print(\"The median trading volume for FSE during 2017 is\", median_volume)"
   ]
  }
 ],
 "metadata": {
  "kernelspec": {
   "display_name": "Python 3 (ipykernel)",
   "language": "python",
   "name": "python3"
  },
  "language_info": {
   "codemirror_mode": {
    "name": "ipython",
    "version": 3
   },
   "file_extension": ".py",
   "mimetype": "text/x-python",
   "name": "python",
   "nbconvert_exporter": "python",
   "pygments_lexer": "ipython3",
   "version": "3.7.11"
  }
 },
 "nbformat": 4,
 "nbformat_minor": 5
}
