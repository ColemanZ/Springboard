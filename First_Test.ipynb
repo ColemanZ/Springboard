{
 "cells": [
  {
   "cell_type": "code",
   "execution_count": 4,
   "id": "e179f426",
   "metadata": {},
   "outputs": [
    {
     "data": {
      "text/plain": [
       "5"
      ]
     },
     "execution_count": 4,
     "metadata": {},
     "output_type": "execute_result"
    }
   ],
   "source": [
    "2+3"
   ]
  },
  {
   "cell_type": "code",
   "execution_count": 3,
   "id": "851b802b",
   "metadata": {},
   "outputs": [
    {
     "name": "stdout",
     "output_type": "stream",
     "text": [
      "hello github\n"
     ]
    }
   ],
   "source": [
    "print ('hello github')"
   ]
  },
  {
   "cell_type": "markdown",
   "id": "c01e20a4",
   "metadata": {},
   "source": [
    "The 4 Commands You Need To Know\n",
    "- git status: shows status of tracked and untracked files\n",
    "- git add [filename]: adds file to current commit\n",
    "- git commit -m '[message]': add commit locally\n",
    "- git push origin master: push commit to your github repository"
   ]
  }
 ],
 "metadata": {
  "kernelspec": {
   "display_name": "Python 3 (ipykernel)",
   "language": "python",
   "name": "python3"
  },
  "language_info": {
   "codemirror_mode": {
    "name": "ipython",
    "version": 3
   },
   "file_extension": ".py",
   "mimetype": "text/x-python",
   "name": "python",
   "nbconvert_exporter": "python",
   "pygments_lexer": "ipython3",
   "version": "3.9.7"
  }
 },
 "nbformat": 4,
 "nbformat_minor": 5
}
